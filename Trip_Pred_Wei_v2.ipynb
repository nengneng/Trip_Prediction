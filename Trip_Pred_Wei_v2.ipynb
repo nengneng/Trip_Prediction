{
 "cells": [
  {
   "cell_type": "code",
   "execution_count": 3,
   "metadata": {},
   "outputs": [],
   "source": [
    "import pandas as pd\n",
    "import matplotlib.pyplot as plt\n",
    "import seaborn as sns\n",
    "import numpy as np\n",
    "import sklearn\n",
    "from sklearn import linear_model\n",
    "#from sklearn.cross_validation import train_test_split\n",
    "from sklearn.feature_selection import RFE\n",
    "from sklearn.preprocessing import OneHotEncoder, scale, LabelEncoder\n",
    "from sklearn.metrics import mean_squared_error, r2_score"
   ]
  },
  {
   "cell_type": "code",
   "execution_count": 2,
   "metadata": {
    "collapsed": true
   },
   "outputs": [],
   "source": [
    "Train_raw = pd.read_csv(r'D:\\Learn\\HomeWork_Lyft\\train.csv')\n",
    "Test_raw = pd.read_csv(r'D:\\Learn\\HomeWork_Lyft\\test.csv')"
   ]
  },
  {
   "cell_type": "code",
   "execution_count": 84,
   "metadata": {},
   "outputs": [],
   "source": [
    "Weather_raw = pd.read_csv(r'D:\\Learn\\HomeWork_Lyft\\weather_data.csv')"
   ]
  },
  {
   "cell_type": "code",
   "execution_count": 18,
   "metadata": {},
   "outputs": [
    {
     "data": {
      "text/html": [
       "<div>\n",
       "<style>\n",
       "    .dataframe thead tr:only-child th {\n",
       "        text-align: right;\n",
       "    }\n",
       "\n",
       "    .dataframe thead th {\n",
       "        text-align: left;\n",
       "    }\n",
       "\n",
       "    .dataframe tbody tr th {\n",
       "        vertical-align: top;\n",
       "    }\n",
       "</style>\n",
       "<table border=\"1\" class=\"dataframe\">\n",
       "  <thead>\n",
       "    <tr style=\"text-align: right;\">\n",
       "      <th></th>\n",
       "      <th>row_id</th>\n",
       "      <th>start_lng</th>\n",
       "      <th>start_lat</th>\n",
       "      <th>end_lng</th>\n",
       "      <th>end_lat</th>\n",
       "      <th>start_timestamp</th>\n",
       "      <th>duration</th>\n",
       "      <th>start_lat_2</th>\n",
       "      <th>start_lng_2</th>\n",
       "      <th>end_lng_2</th>\n",
       "      <th>end_lat_2</th>\n",
       "    </tr>\n",
       "  </thead>\n",
       "  <tbody>\n",
       "    <tr>\n",
       "      <th>0</th>\n",
       "      <td>0</td>\n",
       "      <td>-74.009087</td>\n",
       "      <td>40.713818</td>\n",
       "      <td>-74.004326</td>\n",
       "      <td>40.719986</td>\n",
       "      <td>1420950819</td>\n",
       "      <td>112</td>\n",
       "      <td>40.714</td>\n",
       "      <td>-74.009</td>\n",
       "      <td>-74.004</td>\n",
       "      <td>40.720</td>\n",
       "    </tr>\n",
       "    <tr>\n",
       "      <th>1</th>\n",
       "      <td>1</td>\n",
       "      <td>-73.971176</td>\n",
       "      <td>40.762428</td>\n",
       "      <td>-74.004181</td>\n",
       "      <td>40.742653</td>\n",
       "      <td>1420950819</td>\n",
       "      <td>1159</td>\n",
       "      <td>40.762</td>\n",
       "      <td>-73.971</td>\n",
       "      <td>-74.004</td>\n",
       "      <td>40.743</td>\n",
       "    </tr>\n",
       "    <tr>\n",
       "      <th>2</th>\n",
       "      <td>2</td>\n",
       "      <td>-73.994957</td>\n",
       "      <td>40.745079</td>\n",
       "      <td>-73.999939</td>\n",
       "      <td>40.734650</td>\n",
       "      <td>1421377541</td>\n",
       "      <td>281</td>\n",
       "      <td>40.745</td>\n",
       "      <td>-73.995</td>\n",
       "      <td>-74.000</td>\n",
       "      <td>40.735</td>\n",
       "    </tr>\n",
       "    <tr>\n",
       "      <th>3</th>\n",
       "      <td>3</td>\n",
       "      <td>-73.991127</td>\n",
       "      <td>40.750080</td>\n",
       "      <td>-73.988609</td>\n",
       "      <td>40.734890</td>\n",
       "      <td>1421377542</td>\n",
       "      <td>636</td>\n",
       "      <td>40.750</td>\n",
       "      <td>-73.991</td>\n",
       "      <td>-73.989</td>\n",
       "      <td>40.735</td>\n",
       "    </tr>\n",
       "    <tr>\n",
       "      <th>4</th>\n",
       "      <td>4</td>\n",
       "      <td>-73.945511</td>\n",
       "      <td>40.773724</td>\n",
       "      <td>-73.987434</td>\n",
       "      <td>40.755707</td>\n",
       "      <td>1422173586</td>\n",
       "      <td>705</td>\n",
       "      <td>40.774</td>\n",
       "      <td>-73.946</td>\n",
       "      <td>-73.987</td>\n",
       "      <td>40.756</td>\n",
       "    </tr>\n",
       "  </tbody>\n",
       "</table>\n",
       "</div>"
      ],
      "text/plain": [
       "   row_id  start_lng  start_lat    end_lng    end_lat  start_timestamp  \\\n",
       "0       0 -74.009087  40.713818 -74.004326  40.719986       1420950819   \n",
       "1       1 -73.971176  40.762428 -74.004181  40.742653       1420950819   \n",
       "2       2 -73.994957  40.745079 -73.999939  40.734650       1421377541   \n",
       "3       3 -73.991127  40.750080 -73.988609  40.734890       1421377542   \n",
       "4       4 -73.945511  40.773724 -73.987434  40.755707       1422173586   \n",
       "\n",
       "   duration  start_lat_2  start_lng_2  end_lng_2  end_lat_2  \n",
       "0       112       40.714      -74.009    -74.004     40.720  \n",
       "1      1159       40.762      -73.971    -74.004     40.743  \n",
       "2       281       40.745      -73.995    -74.000     40.735  \n",
       "3       636       40.750      -73.991    -73.989     40.735  \n",
       "4       705       40.774      -73.946    -73.987     40.756  "
      ]
     },
     "execution_count": 18,
     "metadata": {},
     "output_type": "execute_result"
    }
   ],
   "source": [
    "Train_raw.head()"
   ]
  },
  {
   "cell_type": "code",
   "execution_count": 85,
   "metadata": {},
   "outputs": [
    {
     "data": {
      "text/plain": [
       "1420099203"
      ]
     },
     "execution_count": 85,
     "metadata": {},
     "output_type": "execute_result"
    }
   ],
   "source": [
    "Train_raw['start_timestamp'].min()"
   ]
  },
  {
   "cell_type": "code",
   "execution_count": 88,
   "metadata": {},
   "outputs": [
    {
     "data": {
      "text/html": [
       "<div>\n",
       "<style>\n",
       "    .dataframe thead tr:only-child th {\n",
       "        text-align: right;\n",
       "    }\n",
       "\n",
       "    .dataframe thead th {\n",
       "        text-align: left;\n",
       "    }\n",
       "\n",
       "    .dataframe tbody tr th {\n",
       "        vertical-align: top;\n",
       "    }\n",
       "</style>\n",
       "<table border=\"1\" class=\"dataframe\">\n",
       "  <thead>\n",
       "    <tr style=\"text-align: right;\">\n",
       "      <th></th>\n",
       "      <th>Date</th>\n",
       "      <th>Max_Temp</th>\n",
       "      <th>Min_Temp</th>\n",
       "      <th>Avg_Temp</th>\n",
       "      <th>Temp_Departure</th>\n",
       "      <th>HDD</th>\n",
       "      <th>CDD</th>\n",
       "      <th>Precipition</th>\n",
       "      <th>New_Snow</th>\n",
       "      <th>Snow_Depth</th>\n",
       "    </tr>\n",
       "  </thead>\n",
       "  <tbody>\n",
       "    <tr>\n",
       "      <th>0</th>\n",
       "      <td>1/1/2015</td>\n",
       "      <td>39</td>\n",
       "      <td>27</td>\n",
       "      <td>33.0</td>\n",
       "      <td>-0.4</td>\n",
       "      <td>32</td>\n",
       "      <td>0</td>\n",
       "      <td>0.00</td>\n",
       "      <td>0.0</td>\n",
       "      <td>0</td>\n",
       "    </tr>\n",
       "    <tr>\n",
       "      <th>1</th>\n",
       "      <td>1/2/2015</td>\n",
       "      <td>42</td>\n",
       "      <td>35</td>\n",
       "      <td>38.5</td>\n",
       "      <td>5.2</td>\n",
       "      <td>26</td>\n",
       "      <td>0</td>\n",
       "      <td>0.00</td>\n",
       "      <td>0.0</td>\n",
       "      <td>0</td>\n",
       "    </tr>\n",
       "    <tr>\n",
       "      <th>2</th>\n",
       "      <td>1/3/2015</td>\n",
       "      <td>42</td>\n",
       "      <td>33</td>\n",
       "      <td>37.5</td>\n",
       "      <td>4.4</td>\n",
       "      <td>27</td>\n",
       "      <td>0</td>\n",
       "      <td>0.71</td>\n",
       "      <td>0.0</td>\n",
       "      <td>0</td>\n",
       "    </tr>\n",
       "    <tr>\n",
       "      <th>3</th>\n",
       "      <td>1/4/2015</td>\n",
       "      <td>56</td>\n",
       "      <td>41</td>\n",
       "      <td>48.5</td>\n",
       "      <td>15.5</td>\n",
       "      <td>16</td>\n",
       "      <td>0</td>\n",
       "      <td>0.30</td>\n",
       "      <td>0.0</td>\n",
       "      <td>0</td>\n",
       "    </tr>\n",
       "    <tr>\n",
       "      <th>4</th>\n",
       "      <td>1/5/2015</td>\n",
       "      <td>49</td>\n",
       "      <td>21</td>\n",
       "      <td>35.0</td>\n",
       "      <td>2.1</td>\n",
       "      <td>30</td>\n",
       "      <td>0</td>\n",
       "      <td>0.00</td>\n",
       "      <td>0.0</td>\n",
       "      <td>0</td>\n",
       "    </tr>\n",
       "  </tbody>\n",
       "</table>\n",
       "</div>"
      ],
      "text/plain": [
       "       Date  Max_Temp  Min_Temp  Avg_Temp  Temp_Departure  HDD  CDD  \\\n",
       "0  1/1/2015        39        27      33.0            -0.4   32    0   \n",
       "1  1/2/2015        42        35      38.5             5.2   26    0   \n",
       "2  1/3/2015        42        33      37.5             4.4   27    0   \n",
       "3  1/4/2015        56        41      48.5            15.5   16    0   \n",
       "4  1/5/2015        49        21      35.0             2.1   30    0   \n",
       "\n",
       "   Precipition  New_Snow  Snow_Depth  \n",
       "0         0.00       0.0           0  \n",
       "1         0.00       0.0           0  \n",
       "2         0.71       0.0           0  \n",
       "3         0.30       0.0           0  \n",
       "4         0.00       0.0           0  "
      ]
     },
     "execution_count": 88,
     "metadata": {},
     "output_type": "execute_result"
    }
   ],
   "source": [
    "Weather_raw.head()"
   ]
  },
  {
   "cell_type": "code",
   "execution_count": 90,
   "metadata": {},
   "outputs": [
    {
     "data": {
      "text/plain": [
       "pandas.core.series.Series"
      ]
     },
     "execution_count": 90,
     "metadata": {},
     "output_type": "execute_result"
    }
   ],
   "source": [
    "Weather_raw['Date']"
   ]
  },
  {
   "cell_type": "code",
   "execution_count": 4,
   "metadata": {
    "collapsed": true
   },
   "outputs": [],
   "source": [
    "Train_raw['start_lat_2'] = round(Train_raw['start_lat'],3)\n",
    "Train_raw['start_lng_2'] = round(Train_raw['start_lng'],3)\n",
    "Train_raw['end_lng_2'] = round(Train_raw['end_lng'],3)\n",
    "Train_raw['end_lat_2'] = round(Train_raw['end_lat'],3)"
   ]
  },
  {
   "cell_type": "code",
   "execution_count": 5,
   "metadata": {
    "collapsed": true
   },
   "outputs": [],
   "source": [
    "trip_cnt_by_ln_lat_start = Train_raw.groupby(['start_lat_2','start_lng_2'])['row_id'].size()\n",
    "trip_cnt_by_ln_lat_end   = Train_raw.groupby(['end_lat_2','end_lng_2'])['row_id'].size()"
   ]
  },
  {
   "cell_type": "code",
   "execution_count": 11,
   "metadata": {
    "collapsed": true
   },
   "outputs": [],
   "source": [
    "trip_cnt_by_ln_lat_start_dict = dict(trip_cnt_by_ln_lat_start.sort_values(ascending=False))\n",
    "trip_cnt_by_ln_lat_end_dict   = dict(trip_cnt_by_ln_lat_end.sort_values(ascending=False))"
   ]
  },
  {
   "cell_type": "code",
   "execution_count": 12,
   "metadata": {
    "collapsed": true
   },
   "outputs": [],
   "source": [
    "trip_duration_by_ln_lat_start = Train_raw.groupby(['start_lat_2','start_lng_2'])['duration'].mean()\n",
    "trip_duration_by_ln_lat_end   = Train_raw.groupby(['end_lat_2','end_lng_2'])['duration'].mean()"
   ]
  },
  {
   "cell_type": "code",
   "execution_count": 13,
   "metadata": {},
   "outputs": [],
   "source": [
    "trip_duration_by_ln_lat_start_dict = dict(trip_duration_by_ln_lat_start.sort_values(ascending=False))\n",
    "trip_duration_by_ln_lat_end_dict   = dict(trip_duration_by_ln_lat_end.sort_values(ascending=False))"
   ]
  },
  {
   "cell_type": "code",
   "execution_count": 49,
   "metadata": {},
   "outputs": [],
   "source": [
    "lst_start_lat_lng = Train_raw[['start_lat_2','start_lng_2']].values.tolist()\n",
    "lst_end_lat_lng = Train_raw[['end_lat_2','end_lng_2']].values.tolist()"
   ]
  },
  {
   "cell_type": "code",
   "execution_count": 50,
   "metadata": {},
   "outputs": [],
   "source": [
    "# To look up a tuple \n",
    "# trip_cnt_by_ln_lat_start_dict.get((40.724,-73.993))\n",
    "\n",
    "lst_trip_cnt_by_ln_lat_start = [trip_cnt_by_ln_lat_start_dict.get(tuple(x)) for x in lst_start_lat_lng]\n",
    "lst_trip_cnt_by_ln_lat_end = [trip_cnt_by_ln_lat_end_dict.get(tuple(x)) for x in lst_end_lat_lng]\n",
    "\n",
    "lst_trip_duration_by_ln_lat_start = [trip_duration_by_ln_lat_start_dict.get(tuple(x)) for x in lst_start_lat_lng]\n",
    "lst_trip_duration_by_ln_lat_end = [trip_duration_by_ln_lat_end_dict.get(tuple(x)) for x in lst_end_lat_lng]"
   ]
  },
  {
   "cell_type": "code",
   "execution_count": 58,
   "metadata": {},
   "outputs": [],
   "source": [
    "Train_raw['trip_cnt_by_start'] = lst_trip_cnt_by_ln_lat_start\n",
    "Train_raw['trip_cnt_by_end'] = lst_trip_cnt_by_ln_lat_end\n",
    "Train_raw['trip_duration_by_start'] = lst_trip_duration_by_ln_lat_start\n",
    "Train_raw['trip_duration_by_end'] = lst_trip_duration_by_ln_lat_end"
   ]
  },
  {
   "cell_type": "code",
   "execution_count": 59,
   "metadata": {},
   "outputs": [
    {
     "data": {
      "text/html": [
       "<div>\n",
       "<style>\n",
       "    .dataframe thead tr:only-child th {\n",
       "        text-align: right;\n",
       "    }\n",
       "\n",
       "    .dataframe thead th {\n",
       "        text-align: left;\n",
       "    }\n",
       "\n",
       "    .dataframe tbody tr th {\n",
       "        vertical-align: top;\n",
       "    }\n",
       "</style>\n",
       "<table border=\"1\" class=\"dataframe\">\n",
       "  <thead>\n",
       "    <tr style=\"text-align: right;\">\n",
       "      <th></th>\n",
       "      <th>row_id</th>\n",
       "      <th>start_lng</th>\n",
       "      <th>start_lat</th>\n",
       "      <th>end_lng</th>\n",
       "      <th>end_lat</th>\n",
       "      <th>start_timestamp</th>\n",
       "      <th>duration</th>\n",
       "      <th>start_lat_2</th>\n",
       "      <th>start_lng_2</th>\n",
       "      <th>end_lng_2</th>\n",
       "      <th>end_lat_2</th>\n",
       "      <th>trip_cnt_by_start</th>\n",
       "      <th>trip_cnt_by_end</th>\n",
       "      <th>trip_duration_by_start</th>\n",
       "      <th>trip_duration_by_end</th>\n",
       "    </tr>\n",
       "  </thead>\n",
       "  <tbody>\n",
       "    <tr>\n",
       "      <th>0</th>\n",
       "      <td>0</td>\n",
       "      <td>-74.009087</td>\n",
       "      <td>40.713818</td>\n",
       "      <td>-74.004326</td>\n",
       "      <td>40.719986</td>\n",
       "      <td>1420950819</td>\n",
       "      <td>112</td>\n",
       "      <td>40.714</td>\n",
       "      <td>-74.009</td>\n",
       "      <td>-74.004</td>\n",
       "      <td>40.720</td>\n",
       "      <td>7987</td>\n",
       "      <td>1495</td>\n",
       "      <td>850.331414</td>\n",
       "      <td>715.309699</td>\n",
       "    </tr>\n",
       "    <tr>\n",
       "      <th>1</th>\n",
       "      <td>1</td>\n",
       "      <td>-73.971176</td>\n",
       "      <td>40.762428</td>\n",
       "      <td>-74.004181</td>\n",
       "      <td>40.742653</td>\n",
       "      <td>1420950819</td>\n",
       "      <td>1159</td>\n",
       "      <td>40.762</td>\n",
       "      <td>-73.971</td>\n",
       "      <td>-74.004</td>\n",
       "      <td>40.743</td>\n",
       "      <td>8664</td>\n",
       "      <td>10631</td>\n",
       "      <td>764.462027</td>\n",
       "      <td>688.180322</td>\n",
       "    </tr>\n",
       "    <tr>\n",
       "      <th>2</th>\n",
       "      <td>2</td>\n",
       "      <td>-73.994957</td>\n",
       "      <td>40.745079</td>\n",
       "      <td>-73.999939</td>\n",
       "      <td>40.734650</td>\n",
       "      <td>1421377541</td>\n",
       "      <td>281</td>\n",
       "      <td>40.745</td>\n",
       "      <td>-73.995</td>\n",
       "      <td>-74.000</td>\n",
       "      <td>40.735</td>\n",
       "      <td>15468</td>\n",
       "      <td>4782</td>\n",
       "      <td>652.257564</td>\n",
       "      <td>675.881430</td>\n",
       "    </tr>\n",
       "    <tr>\n",
       "      <th>3</th>\n",
       "      <td>3</td>\n",
       "      <td>-73.991127</td>\n",
       "      <td>40.750080</td>\n",
       "      <td>-73.988609</td>\n",
       "      <td>40.734890</td>\n",
       "      <td>1421377542</td>\n",
       "      <td>636</td>\n",
       "      <td>40.750</td>\n",
       "      <td>-73.991</td>\n",
       "      <td>-73.989</td>\n",
       "      <td>40.735</td>\n",
       "      <td>64132</td>\n",
       "      <td>2986</td>\n",
       "      <td>850.666625</td>\n",
       "      <td>738.551909</td>\n",
       "    </tr>\n",
       "    <tr>\n",
       "      <th>4</th>\n",
       "      <td>4</td>\n",
       "      <td>-73.945511</td>\n",
       "      <td>40.773724</td>\n",
       "      <td>-73.987434</td>\n",
       "      <td>40.755707</td>\n",
       "      <td>1422173586</td>\n",
       "      <td>705</td>\n",
       "      <td>40.774</td>\n",
       "      <td>-73.946</td>\n",
       "      <td>-73.987</td>\n",
       "      <td>40.756</td>\n",
       "      <td>3584</td>\n",
       "      <td>8497</td>\n",
       "      <td>747.302734</td>\n",
       "      <td>843.338590</td>\n",
       "    </tr>\n",
       "  </tbody>\n",
       "</table>\n",
       "</div>"
      ],
      "text/plain": [
       "   row_id  start_lng  start_lat    end_lng    end_lat  start_timestamp  \\\n",
       "0       0 -74.009087  40.713818 -74.004326  40.719986       1420950819   \n",
       "1       1 -73.971176  40.762428 -74.004181  40.742653       1420950819   \n",
       "2       2 -73.994957  40.745079 -73.999939  40.734650       1421377541   \n",
       "3       3 -73.991127  40.750080 -73.988609  40.734890       1421377542   \n",
       "4       4 -73.945511  40.773724 -73.987434  40.755707       1422173586   \n",
       "\n",
       "   duration  start_lat_2  start_lng_2  end_lng_2  end_lat_2  \\\n",
       "0       112       40.714      -74.009    -74.004     40.720   \n",
       "1      1159       40.762      -73.971    -74.004     40.743   \n",
       "2       281       40.745      -73.995    -74.000     40.735   \n",
       "3       636       40.750      -73.991    -73.989     40.735   \n",
       "4       705       40.774      -73.946    -73.987     40.756   \n",
       "\n",
       "   trip_cnt_by_start  trip_cnt_by_end  trip_duration_by_start  \\\n",
       "0               7987             1495              850.331414   \n",
       "1               8664            10631              764.462027   \n",
       "2              15468             4782              652.257564   \n",
       "3              64132             2986              850.666625   \n",
       "4               3584             8497              747.302734   \n",
       "\n",
       "   trip_duration_by_end  \n",
       "0            715.309699  \n",
       "1            688.180322  \n",
       "2            675.881430  \n",
       "3            738.551909  \n",
       "4            843.338590  "
      ]
     },
     "execution_count": 59,
     "metadata": {},
     "output_type": "execute_result"
    }
   ],
   "source": [
    "Train_raw.head()"
   ]
  },
  {
   "cell_type": "code",
   "execution_count": 65,
   "metadata": {
    "collapsed": true
   },
   "outputs": [],
   "source": [
    "# To test running this function: \n",
    "# tr1, dct1, dct2, dct3, dct4 = create_features_training(Train_raw.loc[:10,:])\n",
    "\n",
    "def create_features_training(input_df):\n",
    "    input_df['start_lat_2'] = round(input_df['start_lat'],3)\n",
    "    input_df['start_lng_2'] = round(input_df['start_lng'],3)\n",
    "    input_df['end_lng_2'] = round(input_df['end_lng'],3)\n",
    "    input_df['end_lat_2'] = round(input_df['end_lat'],3)\n",
    "    \n",
    "    trip_cnt_by_ln_lat_start = input_df.groupby(['start_lat_2','start_lng_2'])['row_id'].size()\n",
    "    trip_cnt_by_ln_lat_end   = input_df.groupby(['end_lat_2','end_lng_2'])['row_id'].size()\n",
    "    \n",
    "    trip_cnt_by_ln_lat_start_dict = dict(trip_cnt_by_ln_lat_start.sort_values(ascending=False))\n",
    "    trip_cnt_by_ln_lat_end_dict   = dict(trip_cnt_by_ln_lat_end.sort_values(ascending=False))\n",
    "\n",
    "    trip_duration_by_ln_lat_start = input_df.groupby(['start_lat_2','start_lng_2'])['duration'].mean()\n",
    "    trip_duration_by_ln_lat_end   = input_df.groupby(['end_lat_2','end_lng_2'])['duration'].mean()\n",
    "    \n",
    "    trip_duration_by_ln_lat_start_dict = dict(trip_duration_by_ln_lat_start.sort_values(ascending=False))\n",
    "    trip_duration_by_ln_lat_end_dict   = dict(trip_duration_by_ln_lat_end.sort_values(ascending=False))\n",
    "    \n",
    "    lst_start_lat_lng = input_df[['start_lat_2','start_lng_2']].values.tolist()\n",
    "    lst_end_lat_lng = input_df[['end_lat_2','end_lng_2']].values.tolist()\n",
    "    \n",
    "    lst_trip_cnt_by_ln_lat_start = [trip_cnt_by_ln_lat_start_dict.get(tuple(x)) for x in lst_start_lat_lng]\n",
    "    lst_trip_cnt_by_ln_lat_end = [trip_cnt_by_ln_lat_end_dict.get(tuple(x)) for x in lst_end_lat_lng]\n",
    "\n",
    "    lst_trip_duration_by_ln_lat_start = [trip_duration_by_ln_lat_start_dict.get(tuple(x)) for x in lst_start_lat_lng]\n",
    "    lst_trip_duration_by_ln_lat_end = [trip_duration_by_ln_lat_end_dict.get(tuple(x)) for x in lst_end_lat_lng]\n",
    "    \n",
    "    input_df['trip_cnt_by_start'] = lst_trip_cnt_by_ln_lat_start\n",
    "    input_df['trip_cnt_by_end'] = lst_trip_cnt_by_ln_lat_end\n",
    "    input_df['trip_duration_by_start'] = lst_trip_duration_by_ln_lat_start\n",
    "    input_df['trip_duration_by_end'] = lst_trip_duration_by_ln_lat_end\n",
    "    \n",
    "    return input_df, trip_cnt_by_ln_lat_start_dict, trip_cnt_by_ln_lat_end_dict, trip_duration_by_ln_lat_start_dict, trip_duration_by_ln_lat_end_dict"
   ]
  },
  {
   "cell_type": "code",
   "execution_count": null,
   "metadata": {
    "collapsed": true
   },
   "outputs": [],
   "source": []
  },
  {
   "cell_type": "code",
   "execution_count": 75,
   "metadata": {
    "collapsed": true
   },
   "outputs": [],
   "source": [
    "# To test running this function\n",
    "# toscore = create_features_scoring(Test_raw.loc[:10,:], dct1, dct2, dct3, dct4)\n",
    "\n",
    "def create_features_scoring(input_df, dct1, dct2, dct3, dct4):\n",
    "    input_df['start_lat_2'] = round(input_df['start_lat'],3)\n",
    "    input_df['start_lng_2'] = round(input_df['start_lng'],3)\n",
    "    input_df['end_lng_2'] = round(input_df['end_lng'],3)\n",
    "    input_df['end_lat_2'] = round(input_df['end_lat'],3)\n",
    "    \n",
    "    #trip_cnt_by_ln_lat_start = input_df.groupby(['start_lat_2','start_lng_2'])['row_id'].size()\n",
    "    #trip_cnt_by_ln_lat_end   = input_df.groupby(['end_lat_2','end_lng_2'])['row_id'].size()\n",
    "    \n",
    "    #trip_cnt_by_ln_lat_start_dict = dict(trip_cnt_by_ln_lat_start.sort_values(ascending=False))\n",
    "    #trip_cnt_by_ln_lat_end_dict   = dict(trip_cnt_by_ln_lat_end.sort_values(ascending=False))\n",
    "\n",
    "    #trip_duration_by_ln_lat_start = input_df.groupby(['start_lat_2','start_lng_2'])['duration'].mean()\n",
    "    #trip_duration_by_ln_lat_end   = input_df.groupby(['end_lat_2','end_lng_2'])['duration'].mean()\n",
    "    \n",
    "    #trip_duration_by_ln_lat_start_dict = dict(trip_duration_by_ln_lat_start.sort_values(ascending=False))\n",
    "    #trip_duration_by_ln_lat_end_dict   = dict(trip_duration_by_ln_lat_end.sort_values(ascending=False))\n",
    "    \n",
    "    lst_start_lat_lng = input_df[['start_lat_2','start_lng_2']].values.tolist()\n",
    "    lst_end_lat_lng = input_df[['end_lat_2','end_lng_2']].values.tolist()\n",
    "    \n",
    "    lst_trip_cnt_by_ln_lat_start = [dct1.get(tuple(x)) for x in lst_start_lat_lng]\n",
    "    lst_trip_cnt_by_ln_lat_end = [dct2.get(tuple(x)) for x in lst_end_lat_lng]\n",
    "\n",
    "    lst_trip_duration_by_ln_lat_start = [dct3.get(tuple(x)) for x in lst_start_lat_lng]\n",
    "    lst_trip_duration_by_ln_lat_end = [dct4.get(tuple(x)) for x in lst_end_lat_lng]\n",
    "    \n",
    "    input_df['trip_cnt_by_start'] = lst_trip_cnt_by_ln_lat_start\n",
    "    input_df['trip_cnt_by_end'] = lst_trip_cnt_by_ln_lat_end\n",
    "    input_df['trip_duration_by_start'] = lst_trip_duration_by_ln_lat_start\n",
    "    input_df['trip_duration_by_end'] = lst_trip_duration_by_ln_lat_end\n",
    "    \n",
    "    return input_df"
   ]
  },
  {
   "cell_type": "code",
   "execution_count": null,
   "metadata": {},
   "outputs": [],
   "source": []
  },
  {
   "cell_type": "code",
   "execution_count": null,
   "metadata": {},
   "outputs": [],
   "source": []
  }
 ],
 "metadata": {
  "kernelspec": {
   "display_name": "Python 3",
   "language": "python",
   "name": "python3"
  },
  "language_info": {
   "codemirror_mode": {
    "name": "ipython",
    "version": 3
   },
   "file_extension": ".py",
   "mimetype": "text/x-python",
   "name": "python",
   "nbconvert_exporter": "python",
   "pygments_lexer": "ipython3",
   "version": "3.6.3"
  }
 },
 "nbformat": 4,
 "nbformat_minor": 2
}
