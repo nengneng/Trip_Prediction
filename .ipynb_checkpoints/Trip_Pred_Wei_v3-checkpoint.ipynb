{
 "cells": [
  {
   "cell_type": "markdown",
   "metadata": {},
   "source": [
    "### import some libraries"
   ]
  },
  {
   "cell_type": "code",
   "execution_count": 91,
   "metadata": {},
   "outputs": [],
   "source": [
    "import pandas as pd\n",
    "import matplotlib.pyplot as plt\n",
    "import numpy as np\n",
    "import sklearn\n",
    "from sklearn import linear_model\n",
    "from sklearn.cross_validation import train_test_split\n",
    "from sklearn.feature_selection import RFE\n",
    "from sklearn.ensemble import RandomForestRegressor\n",
    "from sklearn import ensemble, neighbors\n",
    "from sklearn.preprocessing import OneHotEncoder, scale, LabelEncoder\n",
    "from sklearn.metrics import mean_squared_error, r2_score\n",
    "import datetime\n",
    "from pandas.tseries.holiday import USFederalHolidayCalendar as calendar\n",
    "import math\n",
    "import pygeohash as pgh"
   ]
  },
  {
   "cell_type": "markdown",
   "metadata": {},
   "source": [
    "### Read in Training and Testing data"
   ]
  },
  {
   "cell_type": "code",
   "execution_count": 84,
   "metadata": {
    "collapsed": true
   },
   "outputs": [],
   "source": [
    "Train_raw = pd.read_csv(r'D:\\Learn\\HomeWork_Lyft\\train.csv')\n",
    "Test_raw = pd.read_csv(r'D:\\Learn\\HomeWork_Lyft\\test.csv')"
   ]
  },
  {
   "cell_type": "code",
   "execution_count": 117,
   "metadata": {},
   "outputs": [
    {
     "data": {
      "text/html": [
       "<div>\n",
       "<style>\n",
       "    .dataframe thead tr:only-child th {\n",
       "        text-align: right;\n",
       "    }\n",
       "\n",
       "    .dataframe thead th {\n",
       "        text-align: left;\n",
       "    }\n",
       "\n",
       "    .dataframe tbody tr th {\n",
       "        vertical-align: top;\n",
       "    }\n",
       "</style>\n",
       "<table border=\"1\" class=\"dataframe\">\n",
       "  <thead>\n",
       "    <tr style=\"text-align: right;\">\n",
       "      <th></th>\n",
       "      <th>row_id</th>\n",
       "      <th>start_lng</th>\n",
       "      <th>start_lat</th>\n",
       "      <th>end_lng</th>\n",
       "      <th>end_lat</th>\n",
       "      <th>start_timestamp</th>\n",
       "      <th>duration</th>\n",
       "      <th>date_id_tmp</th>\n",
       "      <th>date_id_left</th>\n",
       "    </tr>\n",
       "  </thead>\n",
       "  <tbody>\n",
       "    <tr>\n",
       "      <th>0</th>\n",
       "      <td>0</td>\n",
       "      <td>-74.009087</td>\n",
       "      <td>40.713818</td>\n",
       "      <td>-74.004326</td>\n",
       "      <td>40.719986</td>\n",
       "      <td>1420950819</td>\n",
       "      <td>112</td>\n",
       "      <td>2015-01-11</td>\n",
       "      <td>2015-01-11</td>\n",
       "    </tr>\n",
       "    <tr>\n",
       "      <th>1</th>\n",
       "      <td>1</td>\n",
       "      <td>-73.971176</td>\n",
       "      <td>40.762428</td>\n",
       "      <td>-74.004181</td>\n",
       "      <td>40.742653</td>\n",
       "      <td>1420950819</td>\n",
       "      <td>1159</td>\n",
       "      <td>2015-01-11</td>\n",
       "      <td>2015-01-11</td>\n",
       "    </tr>\n",
       "    <tr>\n",
       "      <th>2</th>\n",
       "      <td>2</td>\n",
       "      <td>-73.994957</td>\n",
       "      <td>40.745079</td>\n",
       "      <td>-73.999939</td>\n",
       "      <td>40.734650</td>\n",
       "      <td>1421377541</td>\n",
       "      <td>281</td>\n",
       "      <td>2015-01-16</td>\n",
       "      <td>2015-01-16</td>\n",
       "    </tr>\n",
       "    <tr>\n",
       "      <th>3</th>\n",
       "      <td>3</td>\n",
       "      <td>-73.991127</td>\n",
       "      <td>40.750080</td>\n",
       "      <td>-73.988609</td>\n",
       "      <td>40.734890</td>\n",
       "      <td>1421377542</td>\n",
       "      <td>636</td>\n",
       "      <td>2015-01-16</td>\n",
       "      <td>2015-01-16</td>\n",
       "    </tr>\n",
       "    <tr>\n",
       "      <th>4</th>\n",
       "      <td>4</td>\n",
       "      <td>-73.945511</td>\n",
       "      <td>40.773724</td>\n",
       "      <td>-73.987434</td>\n",
       "      <td>40.755707</td>\n",
       "      <td>1422173586</td>\n",
       "      <td>705</td>\n",
       "      <td>2015-01-25</td>\n",
       "      <td>2015-01-25</td>\n",
       "    </tr>\n",
       "  </tbody>\n",
       "</table>\n",
       "</div>"
      ],
      "text/plain": [
       "   row_id  start_lng  start_lat    end_lng    end_lat  start_timestamp  \\\n",
       "0       0 -74.009087  40.713818 -74.004326  40.719986       1420950819   \n",
       "1       1 -73.971176  40.762428 -74.004181  40.742653       1420950819   \n",
       "2       2 -73.994957  40.745079 -73.999939  40.734650       1421377541   \n",
       "3       3 -73.991127  40.750080 -73.988609  40.734890       1421377542   \n",
       "4       4 -73.945511  40.773724 -73.987434  40.755707       1422173586   \n",
       "\n",
       "   duration date_id_tmp date_id_left  \n",
       "0       112  2015-01-11   2015-01-11  \n",
       "1      1159  2015-01-11   2015-01-11  \n",
       "2       281  2015-01-16   2015-01-16  \n",
       "3       636  2015-01-16   2015-01-16  \n",
       "4       705  2015-01-25   2015-01-25  "
      ]
     },
     "execution_count": 117,
     "metadata": {},
     "output_type": "execute_result"
    }
   ],
   "source": [
    "Train_raw.head()"
   ]
  },
  {
   "cell_type": "code",
   "execution_count": 118,
   "metadata": {},
   "outputs": [
    {
     "data": {
      "text/html": [
       "<div>\n",
       "<style>\n",
       "    .dataframe thead tr:only-child th {\n",
       "        text-align: right;\n",
       "    }\n",
       "\n",
       "    .dataframe thead th {\n",
       "        text-align: left;\n",
       "    }\n",
       "\n",
       "    .dataframe tbody tr th {\n",
       "        vertical-align: top;\n",
       "    }\n",
       "</style>\n",
       "<table border=\"1\" class=\"dataframe\">\n",
       "  <thead>\n",
       "    <tr style=\"text-align: right;\">\n",
       "      <th></th>\n",
       "      <th>row_id</th>\n",
       "      <th>start_lng</th>\n",
       "      <th>start_lat</th>\n",
       "      <th>end_lng</th>\n",
       "      <th>end_lat</th>\n",
       "      <th>start_timestamp</th>\n",
       "      <th>date_id_tmp</th>\n",
       "      <th>date_id_left</th>\n",
       "    </tr>\n",
       "  </thead>\n",
       "  <tbody>\n",
       "    <tr>\n",
       "      <th>0</th>\n",
       "      <td>0</td>\n",
       "      <td>-73.993111</td>\n",
       "      <td>40.724289</td>\n",
       "      <td>-74.000977</td>\n",
       "      <td>40.735222</td>\n",
       "      <td>1422173589</td>\n",
       "      <td>2015-01-25</td>\n",
       "      <td>2015-01-25</td>\n",
       "    </tr>\n",
       "    <tr>\n",
       "      <th>1</th>\n",
       "      <td>1</td>\n",
       "      <td>-73.971924</td>\n",
       "      <td>40.762749</td>\n",
       "      <td>-73.965698</td>\n",
       "      <td>40.771427</td>\n",
       "      <td>1420567340</td>\n",
       "      <td>2015-01-06</td>\n",
       "      <td>2015-01-06</td>\n",
       "    </tr>\n",
       "    <tr>\n",
       "      <th>2</th>\n",
       "      <td>2</td>\n",
       "      <td>-73.953247</td>\n",
       "      <td>40.765816</td>\n",
       "      <td>-73.952843</td>\n",
       "      <td>40.772453</td>\n",
       "      <td>1420567343</td>\n",
       "      <td>2015-01-06</td>\n",
       "      <td>2015-01-06</td>\n",
       "    </tr>\n",
       "    <tr>\n",
       "      <th>3</th>\n",
       "      <td>3</td>\n",
       "      <td>-73.986618</td>\n",
       "      <td>40.739353</td>\n",
       "      <td>-73.949158</td>\n",
       "      <td>40.805161</td>\n",
       "      <td>1420103336</td>\n",
       "      <td>2015-01-01</td>\n",
       "      <td>2015-01-01</td>\n",
       "    </tr>\n",
       "    <tr>\n",
       "      <th>4</th>\n",
       "      <td>4</td>\n",
       "      <td>-73.968864</td>\n",
       "      <td>40.757317</td>\n",
       "      <td>-73.982521</td>\n",
       "      <td>40.771305</td>\n",
       "      <td>1420690180</td>\n",
       "      <td>2015-01-08</td>\n",
       "      <td>2015-01-08</td>\n",
       "    </tr>\n",
       "  </tbody>\n",
       "</table>\n",
       "</div>"
      ],
      "text/plain": [
       "   row_id  start_lng  start_lat    end_lng    end_lat  start_timestamp  \\\n",
       "0       0 -73.993111  40.724289 -74.000977  40.735222       1422173589   \n",
       "1       1 -73.971924  40.762749 -73.965698  40.771427       1420567340   \n",
       "2       2 -73.953247  40.765816 -73.952843  40.772453       1420567343   \n",
       "3       3 -73.986618  40.739353 -73.949158  40.805161       1420103336   \n",
       "4       4 -73.968864  40.757317 -73.982521  40.771305       1420690180   \n",
       "\n",
       "  date_id_tmp date_id_left  \n",
       "0  2015-01-25   2015-01-25  \n",
       "1  2015-01-06   2015-01-06  \n",
       "2  2015-01-06   2015-01-06  \n",
       "3  2015-01-01   2015-01-01  \n",
       "4  2015-01-08   2015-01-08  "
      ]
     },
     "execution_count": 118,
     "metadata": {},
     "output_type": "execute_result"
    }
   ],
   "source": [
    "Test_raw.head()"
   ]
  },
  {
   "cell_type": "markdown",
   "metadata": {},
   "source": [
    "### Add weather data in NYC"
   ]
  },
  {
   "cell_type": "markdown",
   "metadata": {},
   "source": [
    "Source of Daily Weather data in Central Park Area:\n",
    "Start date: 2015-1-1\n",
    "End date: 2016-1-1 \n",
    "\n",
    "Downloaded from:\n",
    "http://w2.weather.gov/climate/xmacis.php?wfo=okx\n",
    "\n",
    "Daily data for a whole month\n",
    "- daily maximum, minimum and average temperature (degrees F), \n",
    "- average temperature departure from normal (degrees F), \n",
    "- heating and cooling degree days (base 65)\n",
    "- \"Heating degree days\", or \"HDD\", are a measure of how much (in degrees), and for how long (in days), outside air temperature was lower than a specific \"base temperature\" (or \"balance point\").\n",
    "- \"Cooling degree days\", or \"CDD\", are a measure of how much (in degrees), and for how long (in days), outside air temperature was higher than a specific base temperature. \n",
    "- precipitation\n",
    "- snowfall and snow depth (inches) for all days of the selected month. "
   ]
  },
  {
   "cell_type": "code",
   "execution_count": 119,
   "metadata": {
    "collapsed": true
   },
   "outputs": [],
   "source": [
    "Weather_raw = pd.read_csv(r'D:\\Learn\\HomeWork_Lyft\\weather_data.csv')"
   ]
  },
  {
   "cell_type": "code",
   "execution_count": 120,
   "metadata": {},
   "outputs": [
    {
     "data": {
      "text/html": [
       "<div>\n",
       "<style>\n",
       "    .dataframe thead tr:only-child th {\n",
       "        text-align: right;\n",
       "    }\n",
       "\n",
       "    .dataframe thead th {\n",
       "        text-align: left;\n",
       "    }\n",
       "\n",
       "    .dataframe tbody tr th {\n",
       "        vertical-align: top;\n",
       "    }\n",
       "</style>\n",
       "<table border=\"1\" class=\"dataframe\">\n",
       "  <thead>\n",
       "    <tr style=\"text-align: right;\">\n",
       "      <th></th>\n",
       "      <th>Date</th>\n",
       "      <th>Max_Temp</th>\n",
       "      <th>Min_Temp</th>\n",
       "      <th>Avg_Temp</th>\n",
       "      <th>Temp_Departure</th>\n",
       "      <th>HDD</th>\n",
       "      <th>CDD</th>\n",
       "      <th>Precipition</th>\n",
       "      <th>New_Snow</th>\n",
       "      <th>Snow_Depth</th>\n",
       "    </tr>\n",
       "  </thead>\n",
       "  <tbody>\n",
       "    <tr>\n",
       "      <th>0</th>\n",
       "      <td>1/1/2015</td>\n",
       "      <td>39</td>\n",
       "      <td>27</td>\n",
       "      <td>33.0</td>\n",
       "      <td>-0.4</td>\n",
       "      <td>32</td>\n",
       "      <td>0</td>\n",
       "      <td>0.00</td>\n",
       "      <td>0.0</td>\n",
       "      <td>0</td>\n",
       "    </tr>\n",
       "    <tr>\n",
       "      <th>1</th>\n",
       "      <td>1/2/2015</td>\n",
       "      <td>42</td>\n",
       "      <td>35</td>\n",
       "      <td>38.5</td>\n",
       "      <td>5.2</td>\n",
       "      <td>26</td>\n",
       "      <td>0</td>\n",
       "      <td>0.00</td>\n",
       "      <td>0.0</td>\n",
       "      <td>0</td>\n",
       "    </tr>\n",
       "    <tr>\n",
       "      <th>2</th>\n",
       "      <td>1/3/2015</td>\n",
       "      <td>42</td>\n",
       "      <td>33</td>\n",
       "      <td>37.5</td>\n",
       "      <td>4.4</td>\n",
       "      <td>27</td>\n",
       "      <td>0</td>\n",
       "      <td>0.71</td>\n",
       "      <td>0.0</td>\n",
       "      <td>0</td>\n",
       "    </tr>\n",
       "    <tr>\n",
       "      <th>3</th>\n",
       "      <td>1/4/2015</td>\n",
       "      <td>56</td>\n",
       "      <td>41</td>\n",
       "      <td>48.5</td>\n",
       "      <td>15.5</td>\n",
       "      <td>16</td>\n",
       "      <td>0</td>\n",
       "      <td>0.30</td>\n",
       "      <td>0.0</td>\n",
       "      <td>0</td>\n",
       "    </tr>\n",
       "    <tr>\n",
       "      <th>4</th>\n",
       "      <td>1/5/2015</td>\n",
       "      <td>49</td>\n",
       "      <td>21</td>\n",
       "      <td>35.0</td>\n",
       "      <td>2.1</td>\n",
       "      <td>30</td>\n",
       "      <td>0</td>\n",
       "      <td>0.00</td>\n",
       "      <td>0.0</td>\n",
       "      <td>0</td>\n",
       "    </tr>\n",
       "  </tbody>\n",
       "</table>\n",
       "</div>"
      ],
      "text/plain": [
       "       Date  Max_Temp  Min_Temp  Avg_Temp  Temp_Departure  HDD  CDD  \\\n",
       "0  1/1/2015        39        27      33.0            -0.4   32    0   \n",
       "1  1/2/2015        42        35      38.5             5.2   26    0   \n",
       "2  1/3/2015        42        33      37.5             4.4   27    0   \n",
       "3  1/4/2015        56        41      48.5            15.5   16    0   \n",
       "4  1/5/2015        49        21      35.0             2.1   30    0   \n",
       "\n",
       "   Precipition  New_Snow  Snow_Depth  \n",
       "0         0.00       0.0           0  \n",
       "1         0.00       0.0           0  \n",
       "2         0.71       0.0           0  \n",
       "3         0.30       0.0           0  \n",
       "4         0.00       0.0           0  "
      ]
     },
     "execution_count": 120,
     "metadata": {},
     "output_type": "execute_result"
    }
   ],
   "source": [
    "Weather_raw.head()"
   ]
  },
  {
   "cell_type": "markdown",
   "metadata": {},
   "source": [
    "### Convert datetime to appropriate format to merge with weather data"
   ]
  },
  {
   "cell_type": "code",
   "execution_count": 104,
   "metadata": {
    "collapsed": true
   },
   "outputs": [],
   "source": [
    "def convert_time_input(input_df):\n",
    "    input_df['date_id_tmp'] = input_df['start_timestamp'].astype('int').astype(\"datetime64[s]\").dt.date\n",
    "    dt_lst = input_df['date_id_tmp'].tolist()\n",
    "    dt_lst2 = [ x.strftime('%Y-%m-%d') for x in dt_lst]\n",
    "    input_df['date_id_left'] = dt_lst2\n",
    "    return input_df"
   ]
  },
  {
   "cell_type": "code",
   "execution_count": 108,
   "metadata": {
    "collapsed": true
   },
   "outputs": [],
   "source": [
    "def convert_time_weather(weather_df):\n",
    "    date_rng = pd.date_range('1/1/2015', periods=366, freq='D')\n",
    "    dt_lst = date_rng.tolist()\n",
    "    dt_lst2 = [ x.strftime('%Y-%m-%d') for x in dt_lst]\n",
    "    weather_df['date_id_right'] = dt_lst2\n",
    "    return weather_df"
   ]
  },
  {
   "cell_type": "markdown",
   "metadata": {},
   "source": [
    "### Left outer join weather data to the training data"
   ]
  },
  {
   "cell_type": "code",
   "execution_count": 105,
   "metadata": {
    "collapsed": true
   },
   "outputs": [],
   "source": [
    "Train_raw = convert_time_input(Train_raw)\n",
    "Weather_raw = convert_time_weather(Weather_raw)\n",
    "Train_with_weather = pd.merge(left=Train_raw,right=Weather_raw, how='left',  left_on='date_id_left', right_on='date_id_right')"
   ]
  },
  {
   "cell_type": "code",
   "execution_count": 121,
   "metadata": {},
   "outputs": [
    {
     "data": {
      "text/html": [
       "<div>\n",
       "<style>\n",
       "    .dataframe thead tr:only-child th {\n",
       "        text-align: right;\n",
       "    }\n",
       "\n",
       "    .dataframe thead th {\n",
       "        text-align: left;\n",
       "    }\n",
       "\n",
       "    .dataframe tbody tr th {\n",
       "        vertical-align: top;\n",
       "    }\n",
       "</style>\n",
       "<table border=\"1\" class=\"dataframe\">\n",
       "  <thead>\n",
       "    <tr style=\"text-align: right;\">\n",
       "      <th></th>\n",
       "      <th>row_id</th>\n",
       "      <th>start_lng</th>\n",
       "      <th>start_lat</th>\n",
       "      <th>end_lng</th>\n",
       "      <th>end_lat</th>\n",
       "      <th>start_timestamp</th>\n",
       "      <th>duration</th>\n",
       "      <th>date_id_tmp</th>\n",
       "      <th>date_id_left</th>\n",
       "      <th>Date</th>\n",
       "      <th>Max_Temp</th>\n",
       "      <th>Min_Temp</th>\n",
       "      <th>Avg_Temp</th>\n",
       "      <th>Temp_Departure</th>\n",
       "      <th>HDD</th>\n",
       "      <th>CDD</th>\n",
       "      <th>Precipition</th>\n",
       "      <th>New_Snow</th>\n",
       "      <th>Snow_Depth</th>\n",
       "      <th>date_id_right</th>\n",
       "    </tr>\n",
       "  </thead>\n",
       "  <tbody>\n",
       "    <tr>\n",
       "      <th>0</th>\n",
       "      <td>0</td>\n",
       "      <td>-74.009087</td>\n",
       "      <td>40.713818</td>\n",
       "      <td>-74.004326</td>\n",
       "      <td>40.719986</td>\n",
       "      <td>1420950819</td>\n",
       "      <td>112</td>\n",
       "      <td>2015-01-11</td>\n",
       "      <td>2015-01-11</td>\n",
       "      <td>1/11/2015</td>\n",
       "      <td>37</td>\n",
       "      <td>18</td>\n",
       "      <td>27.5</td>\n",
       "      <td>-4.9</td>\n",
       "      <td>37</td>\n",
       "      <td>0</td>\n",
       "      <td>0.0</td>\n",
       "      <td>0.0</td>\n",
       "      <td>1</td>\n",
       "      <td>2015-01-11</td>\n",
       "    </tr>\n",
       "    <tr>\n",
       "      <th>1</th>\n",
       "      <td>1</td>\n",
       "      <td>-73.971176</td>\n",
       "      <td>40.762428</td>\n",
       "      <td>-74.004181</td>\n",
       "      <td>40.742653</td>\n",
       "      <td>1420950819</td>\n",
       "      <td>1159</td>\n",
       "      <td>2015-01-11</td>\n",
       "      <td>2015-01-11</td>\n",
       "      <td>1/11/2015</td>\n",
       "      <td>37</td>\n",
       "      <td>18</td>\n",
       "      <td>27.5</td>\n",
       "      <td>-4.9</td>\n",
       "      <td>37</td>\n",
       "      <td>0</td>\n",
       "      <td>0.0</td>\n",
       "      <td>0.0</td>\n",
       "      <td>1</td>\n",
       "      <td>2015-01-11</td>\n",
       "    </tr>\n",
       "    <tr>\n",
       "      <th>2</th>\n",
       "      <td>2</td>\n",
       "      <td>-73.994957</td>\n",
       "      <td>40.745079</td>\n",
       "      <td>-73.999939</td>\n",
       "      <td>40.734650</td>\n",
       "      <td>1421377541</td>\n",
       "      <td>281</td>\n",
       "      <td>2015-01-16</td>\n",
       "      <td>2015-01-16</td>\n",
       "      <td>1/16/2015</td>\n",
       "      <td>43</td>\n",
       "      <td>20</td>\n",
       "      <td>31.5</td>\n",
       "      <td>-0.7</td>\n",
       "      <td>33</td>\n",
       "      <td>0</td>\n",
       "      <td>0.0</td>\n",
       "      <td>0.0</td>\n",
       "      <td>0</td>\n",
       "      <td>2015-01-16</td>\n",
       "    </tr>\n",
       "    <tr>\n",
       "      <th>3</th>\n",
       "      <td>3</td>\n",
       "      <td>-73.991127</td>\n",
       "      <td>40.750080</td>\n",
       "      <td>-73.988609</td>\n",
       "      <td>40.734890</td>\n",
       "      <td>1421377542</td>\n",
       "      <td>636</td>\n",
       "      <td>2015-01-16</td>\n",
       "      <td>2015-01-16</td>\n",
       "      <td>1/16/2015</td>\n",
       "      <td>43</td>\n",
       "      <td>20</td>\n",
       "      <td>31.5</td>\n",
       "      <td>-0.7</td>\n",
       "      <td>33</td>\n",
       "      <td>0</td>\n",
       "      <td>0.0</td>\n",
       "      <td>0.0</td>\n",
       "      <td>0</td>\n",
       "      <td>2015-01-16</td>\n",
       "    </tr>\n",
       "    <tr>\n",
       "      <th>4</th>\n",
       "      <td>4</td>\n",
       "      <td>-73.945511</td>\n",
       "      <td>40.773724</td>\n",
       "      <td>-73.987434</td>\n",
       "      <td>40.755707</td>\n",
       "      <td>1422173586</td>\n",
       "      <td>705</td>\n",
       "      <td>2015-01-25</td>\n",
       "      <td>2015-01-25</td>\n",
       "      <td>1/25/2015</td>\n",
       "      <td>42</td>\n",
       "      <td>31</td>\n",
       "      <td>36.5</td>\n",
       "      <td>4.0</td>\n",
       "      <td>28</td>\n",
       "      <td>0</td>\n",
       "      <td>0.0</td>\n",
       "      <td>0.0</td>\n",
       "      <td>2</td>\n",
       "      <td>2015-01-25</td>\n",
       "    </tr>\n",
       "  </tbody>\n",
       "</table>\n",
       "</div>"
      ],
      "text/plain": [
       "   row_id  start_lng  start_lat    end_lng    end_lat  start_timestamp  \\\n",
       "0       0 -74.009087  40.713818 -74.004326  40.719986       1420950819   \n",
       "1       1 -73.971176  40.762428 -74.004181  40.742653       1420950819   \n",
       "2       2 -73.994957  40.745079 -73.999939  40.734650       1421377541   \n",
       "3       3 -73.991127  40.750080 -73.988609  40.734890       1421377542   \n",
       "4       4 -73.945511  40.773724 -73.987434  40.755707       1422173586   \n",
       "\n",
       "   duration date_id_tmp date_id_left       Date  Max_Temp  Min_Temp  Avg_Temp  \\\n",
       "0       112  2015-01-11   2015-01-11  1/11/2015        37        18      27.5   \n",
       "1      1159  2015-01-11   2015-01-11  1/11/2015        37        18      27.5   \n",
       "2       281  2015-01-16   2015-01-16  1/16/2015        43        20      31.5   \n",
       "3       636  2015-01-16   2015-01-16  1/16/2015        43        20      31.5   \n",
       "4       705  2015-01-25   2015-01-25  1/25/2015        42        31      36.5   \n",
       "\n",
       "   Temp_Departure  HDD  CDD  Precipition  New_Snow  Snow_Depth date_id_right  \n",
       "0            -4.9   37    0          0.0       0.0           1    2015-01-11  \n",
       "1            -4.9   37    0          0.0       0.0           1    2015-01-11  \n",
       "2            -0.7   33    0          0.0       0.0           0    2015-01-16  \n",
       "3            -0.7   33    0          0.0       0.0           0    2015-01-16  \n",
       "4             4.0   28    0          0.0       0.0           2    2015-01-25  "
      ]
     },
     "execution_count": 121,
     "metadata": {},
     "output_type": "execute_result"
    }
   ],
   "source": [
    "Train_with_weather.head()"
   ]
  },
  {
   "cell_type": "markdown",
   "metadata": {},
   "source": [
    "### To solve the high cardinality issue of longitude and latitude features, for each unique coordinates, calculate the number of trips and average duration in that location"
   ]
  },
  {
   "cell_type": "markdown",
   "metadata": {},
   "source": [
    "- dict1: Lookup table for number of trips for each unique longitude/latitude combination in starting point\n",
    "- dict2: Lookup table for number of trips for each unique longitude/latitude combination in ending point\n",
    "- dict3: Lookup table for average duration for each unique longitude/latitude combination in starting point\n",
    "- dict4: Lookup table for average duration for each unique longitude/latitude combination in ending point\n",
    "\n",
    "**dict1 and dict2 measures the frequency of trips in each location**\n",
    "\n",
    "**dict3 and dict4 measures the duration of trips in each location**"
   ]
  },
  {
   "cell_type": "code",
   "execution_count": 122,
   "metadata": {
    "collapsed": true
   },
   "outputs": [],
   "source": [
    "# To test running this function: \n",
    "# tr1, dct1, dct2, dct3, dct4 = create_features_training(Train_raw.loc[:10,:])\n",
    "\n",
    "def create_features_training(input_df):\n",
    "    input_df['start_lat_2'] = round(input_df['start_lat'],3)\n",
    "    input_df['start_lng_2'] = round(input_df['start_lng'],3)\n",
    "    input_df['end_lng_2'] = round(input_df['end_lng'],3)\n",
    "    input_df['end_lat_2'] = round(input_df['end_lat'],3)\n",
    "    \n",
    "    trip_cnt_by_ln_lat_start = input_df.groupby(['start_lat_2','start_lng_2'])['row_id'].size()\n",
    "    trip_cnt_by_ln_lat_end   = input_df.groupby(['end_lat_2','end_lng_2'])['row_id'].size()\n",
    "    \n",
    "    trip_cnt_by_ln_lat_start_dict = dict(trip_cnt_by_ln_lat_start.sort_values(ascending=False))\n",
    "    trip_cnt_by_ln_lat_end_dict   = dict(trip_cnt_by_ln_lat_end.sort_values(ascending=False))\n",
    "\n",
    "    trip_duration_by_ln_lat_start = input_df.groupby(['start_lat_2','start_lng_2'])['duration'].mean()\n",
    "    trip_duration_by_ln_lat_end   = input_df.groupby(['end_lat_2','end_lng_2'])['duration'].mean()\n",
    "    \n",
    "    trip_duration_by_ln_lat_start_dict = dict(trip_duration_by_ln_lat_start.sort_values(ascending=False))\n",
    "    trip_duration_by_ln_lat_end_dict   = dict(trip_duration_by_ln_lat_end.sort_values(ascending=False))\n",
    "    \n",
    "    lst_start_lat_lng = input_df[['start_lat_2','start_lng_2']].values.tolist()\n",
    "    lst_end_lat_lng = input_df[['end_lat_2','end_lng_2']].values.tolist()\n",
    "    \n",
    "    lst_trip_cnt_by_ln_lat_start = [trip_cnt_by_ln_lat_start_dict.get(tuple(x)) for x in lst_start_lat_lng]\n",
    "    lst_trip_cnt_by_ln_lat_end = [trip_cnt_by_ln_lat_end_dict.get(tuple(x)) for x in lst_end_lat_lng]\n",
    "\n",
    "    lst_trip_duration_by_ln_lat_start = [trip_duration_by_ln_lat_start_dict.get(tuple(x)) for x in lst_start_lat_lng]\n",
    "    lst_trip_duration_by_ln_lat_end = [trip_duration_by_ln_lat_end_dict.get(tuple(x)) for x in lst_end_lat_lng]\n",
    "    \n",
    "    input_df['trip_cnt_by_start'] = lst_trip_cnt_by_ln_lat_start\n",
    "    input_df['trip_cnt_by_end'] = lst_trip_cnt_by_ln_lat_end\n",
    "    input_df['trip_duration_by_start'] = lst_trip_duration_by_ln_lat_start\n",
    "    input_df['trip_duration_by_end'] = lst_trip_duration_by_ln_lat_end\n",
    "    \n",
    "    return input_df, trip_cnt_by_ln_lat_start_dict, trip_cnt_by_ln_lat_end_dict, trip_duration_by_ln_lat_start_dict, trip_duration_by_ln_lat_end_dict"
   ]
  },
  {
   "cell_type": "code",
   "execution_count": 123,
   "metadata": {
    "collapsed": true
   },
   "outputs": [],
   "source": [
    "# To test running this function\n",
    "# toscore = create_features_scoring(Test_raw.loc[:10,:], dct1, dct2, dct3, dct4)\n",
    "\n",
    "def create_features_scoring(input_df, dct1, dct2, dct3, dct4):\n",
    "    input_df['start_lat_2'] = round(input_df['start_lat'],3)\n",
    "    input_df['start_lng_2'] = round(input_df['start_lng'],3)\n",
    "    input_df['end_lng_2'] = round(input_df['end_lng'],3)\n",
    "    input_df['end_lat_2'] = round(input_df['end_lat'],3)\n",
    "       \n",
    "    lst_start_lat_lng = input_df[['start_lat_2','start_lng_2']].values.tolist()\n",
    "    lst_end_lat_lng = input_df[['end_lat_2','end_lng_2']].values.tolist()\n",
    "    \n",
    "    lst_trip_cnt_by_ln_lat_start = [dct1.get(tuple(x)) for x in lst_start_lat_lng]\n",
    "    lst_trip_cnt_by_ln_lat_end = [dct2.get(tuple(x)) for x in lst_end_lat_lng]\n",
    "\n",
    "    lst_trip_duration_by_ln_lat_start = [dct3.get(tuple(x)) for x in lst_start_lat_lng]\n",
    "    lst_trip_duration_by_ln_lat_end = [dct4.get(tuple(x)) for x in lst_end_lat_lng]\n",
    "    \n",
    "    input_df['trip_cnt_by_start'] = lst_trip_cnt_by_ln_lat_start\n",
    "    input_df['trip_cnt_by_end'] = lst_trip_cnt_by_ln_lat_end\n",
    "    input_df['trip_duration_by_start'] = lst_trip_duration_by_ln_lat_start\n",
    "    input_df['trip_duration_by_end'] = lst_trip_duration_by_ln_lat_end\n",
    "    \n",
    "    return input_df"
   ]
  },
  {
   "cell_type": "code",
   "execution_count": 124,
   "metadata": {
    "collapsed": true
   },
   "outputs": [],
   "source": [
    "Train_with_weather_Trip, dict1, dict2, dict3, dict4 = create_features_training(Train_with_weather)"
   ]
  },
  {
   "cell_type": "code",
   "execution_count": 125,
   "metadata": {},
   "outputs": [
    {
     "data": {
      "text/html": [
       "<div>\n",
       "<style>\n",
       "    .dataframe thead tr:only-child th {\n",
       "        text-align: right;\n",
       "    }\n",
       "\n",
       "    .dataframe thead th {\n",
       "        text-align: left;\n",
       "    }\n",
       "\n",
       "    .dataframe tbody tr th {\n",
       "        vertical-align: top;\n",
       "    }\n",
       "</style>\n",
       "<table border=\"1\" class=\"dataframe\">\n",
       "  <thead>\n",
       "    <tr style=\"text-align: right;\">\n",
       "      <th></th>\n",
       "      <th>row_id</th>\n",
       "      <th>start_lng</th>\n",
       "      <th>start_lat</th>\n",
       "      <th>end_lng</th>\n",
       "      <th>end_lat</th>\n",
       "      <th>start_timestamp</th>\n",
       "      <th>duration</th>\n",
       "      <th>date_id_tmp</th>\n",
       "      <th>date_id_left</th>\n",
       "      <th>Date</th>\n",
       "      <th>...</th>\n",
       "      <th>Snow_Depth</th>\n",
       "      <th>date_id_right</th>\n",
       "      <th>start_lat_2</th>\n",
       "      <th>start_lng_2</th>\n",
       "      <th>end_lng_2</th>\n",
       "      <th>end_lat_2</th>\n",
       "      <th>trip_cnt_by_start</th>\n",
       "      <th>trip_cnt_by_end</th>\n",
       "      <th>trip_duration_by_start</th>\n",
       "      <th>trip_duration_by_end</th>\n",
       "    </tr>\n",
       "  </thead>\n",
       "  <tbody>\n",
       "    <tr>\n",
       "      <th>0</th>\n",
       "      <td>0</td>\n",
       "      <td>-74.009087</td>\n",
       "      <td>40.713818</td>\n",
       "      <td>-74.004326</td>\n",
       "      <td>40.719986</td>\n",
       "      <td>1420950819</td>\n",
       "      <td>112</td>\n",
       "      <td>2015-01-11</td>\n",
       "      <td>2015-01-11</td>\n",
       "      <td>1/11/2015</td>\n",
       "      <td>...</td>\n",
       "      <td>1</td>\n",
       "      <td>2015-01-11</td>\n",
       "      <td>40.714</td>\n",
       "      <td>-74.009</td>\n",
       "      <td>-74.004</td>\n",
       "      <td>40.720</td>\n",
       "      <td>7987</td>\n",
       "      <td>1495</td>\n",
       "      <td>850.331414</td>\n",
       "      <td>715.309699</td>\n",
       "    </tr>\n",
       "    <tr>\n",
       "      <th>1</th>\n",
       "      <td>1</td>\n",
       "      <td>-73.971176</td>\n",
       "      <td>40.762428</td>\n",
       "      <td>-74.004181</td>\n",
       "      <td>40.742653</td>\n",
       "      <td>1420950819</td>\n",
       "      <td>1159</td>\n",
       "      <td>2015-01-11</td>\n",
       "      <td>2015-01-11</td>\n",
       "      <td>1/11/2015</td>\n",
       "      <td>...</td>\n",
       "      <td>1</td>\n",
       "      <td>2015-01-11</td>\n",
       "      <td>40.762</td>\n",
       "      <td>-73.971</td>\n",
       "      <td>-74.004</td>\n",
       "      <td>40.743</td>\n",
       "      <td>8664</td>\n",
       "      <td>10631</td>\n",
       "      <td>764.462027</td>\n",
       "      <td>688.180322</td>\n",
       "    </tr>\n",
       "    <tr>\n",
       "      <th>2</th>\n",
       "      <td>2</td>\n",
       "      <td>-73.994957</td>\n",
       "      <td>40.745079</td>\n",
       "      <td>-73.999939</td>\n",
       "      <td>40.734650</td>\n",
       "      <td>1421377541</td>\n",
       "      <td>281</td>\n",
       "      <td>2015-01-16</td>\n",
       "      <td>2015-01-16</td>\n",
       "      <td>1/16/2015</td>\n",
       "      <td>...</td>\n",
       "      <td>0</td>\n",
       "      <td>2015-01-16</td>\n",
       "      <td>40.745</td>\n",
       "      <td>-73.995</td>\n",
       "      <td>-74.000</td>\n",
       "      <td>40.735</td>\n",
       "      <td>15468</td>\n",
       "      <td>4782</td>\n",
       "      <td>652.257564</td>\n",
       "      <td>675.881430</td>\n",
       "    </tr>\n",
       "    <tr>\n",
       "      <th>3</th>\n",
       "      <td>3</td>\n",
       "      <td>-73.991127</td>\n",
       "      <td>40.750080</td>\n",
       "      <td>-73.988609</td>\n",
       "      <td>40.734890</td>\n",
       "      <td>1421377542</td>\n",
       "      <td>636</td>\n",
       "      <td>2015-01-16</td>\n",
       "      <td>2015-01-16</td>\n",
       "      <td>1/16/2015</td>\n",
       "      <td>...</td>\n",
       "      <td>0</td>\n",
       "      <td>2015-01-16</td>\n",
       "      <td>40.750</td>\n",
       "      <td>-73.991</td>\n",
       "      <td>-73.989</td>\n",
       "      <td>40.735</td>\n",
       "      <td>64132</td>\n",
       "      <td>2986</td>\n",
       "      <td>850.666625</td>\n",
       "      <td>738.551909</td>\n",
       "    </tr>\n",
       "    <tr>\n",
       "      <th>4</th>\n",
       "      <td>4</td>\n",
       "      <td>-73.945511</td>\n",
       "      <td>40.773724</td>\n",
       "      <td>-73.987434</td>\n",
       "      <td>40.755707</td>\n",
       "      <td>1422173586</td>\n",
       "      <td>705</td>\n",
       "      <td>2015-01-25</td>\n",
       "      <td>2015-01-25</td>\n",
       "      <td>1/25/2015</td>\n",
       "      <td>...</td>\n",
       "      <td>2</td>\n",
       "      <td>2015-01-25</td>\n",
       "      <td>40.774</td>\n",
       "      <td>-73.946</td>\n",
       "      <td>-73.987</td>\n",
       "      <td>40.756</td>\n",
       "      <td>3584</td>\n",
       "      <td>8497</td>\n",
       "      <td>747.302734</td>\n",
       "      <td>843.338590</td>\n",
       "    </tr>\n",
       "  </tbody>\n",
       "</table>\n",
       "<p>5 rows × 28 columns</p>\n",
       "</div>"
      ],
      "text/plain": [
       "   row_id  start_lng  start_lat    end_lng    end_lat  start_timestamp  \\\n",
       "0       0 -74.009087  40.713818 -74.004326  40.719986       1420950819   \n",
       "1       1 -73.971176  40.762428 -74.004181  40.742653       1420950819   \n",
       "2       2 -73.994957  40.745079 -73.999939  40.734650       1421377541   \n",
       "3       3 -73.991127  40.750080 -73.988609  40.734890       1421377542   \n",
       "4       4 -73.945511  40.773724 -73.987434  40.755707       1422173586   \n",
       "\n",
       "   duration date_id_tmp date_id_left       Date         ...           \\\n",
       "0       112  2015-01-11   2015-01-11  1/11/2015         ...            \n",
       "1      1159  2015-01-11   2015-01-11  1/11/2015         ...            \n",
       "2       281  2015-01-16   2015-01-16  1/16/2015         ...            \n",
       "3       636  2015-01-16   2015-01-16  1/16/2015         ...            \n",
       "4       705  2015-01-25   2015-01-25  1/25/2015         ...            \n",
       "\n",
       "   Snow_Depth  date_id_right  start_lat_2  start_lng_2  end_lng_2  end_lat_2  \\\n",
       "0           1     2015-01-11       40.714      -74.009    -74.004     40.720   \n",
       "1           1     2015-01-11       40.762      -73.971    -74.004     40.743   \n",
       "2           0     2015-01-16       40.745      -73.995    -74.000     40.735   \n",
       "3           0     2015-01-16       40.750      -73.991    -73.989     40.735   \n",
       "4           2     2015-01-25       40.774      -73.946    -73.987     40.756   \n",
       "\n",
       "   trip_cnt_by_start  trip_cnt_by_end  trip_duration_by_start  \\\n",
       "0               7987             1495              850.331414   \n",
       "1               8664            10631              764.462027   \n",
       "2              15468             4782              652.257564   \n",
       "3              64132             2986              850.666625   \n",
       "4               3584             8497              747.302734   \n",
       "\n",
       "  trip_duration_by_end  \n",
       "0           715.309699  \n",
       "1           688.180322  \n",
       "2           675.881430  \n",
       "3           738.551909  \n",
       "4           843.338590  \n",
       "\n",
       "[5 rows x 28 columns]"
      ]
     },
     "execution_count": 125,
     "metadata": {},
     "output_type": "execute_result"
    }
   ],
   "source": [
    "Train_with_weather_Trip.head()"
   ]
  },
  {
   "cell_type": "markdown",
   "metadata": {},
   "source": [
    "Now we have 4 extra continuous features that represent longitude and latitude trip info!"
   ]
  },
  {
   "cell_type": "markdown",
   "metadata": {},
   "source": [
    "### Create features based on the trip's date: day of week, hour of day, IsHoliday, IsWeekend, etc."
   ]
  },
  {
   "cell_type": "markdown",
   "metadata": {},
   "source": [
    "DayOfWeek: Monday = 0, Sunday = 6"
   ]
  },
  {
   "cell_type": "code",
   "execution_count": 127,
   "metadata": {
    "collapsed": true
   },
   "outputs": [],
   "source": [
    "def create_date_features(input_df):\n",
    "    input_df['start_datetime'] = input_df['start_timestamp'].astype('int').astype(\"datetime64[s]\")\n",
    "    \n",
    "    input_df['start_date'] = input_df['start_datetime'].dt.date\n",
    "    input_df['start_month'] = input_df['start_datetime'].dt.month\n",
    "    input_df['start_dayOfWeek'] = input_df['start_datetime'].dt.dayofweek\n",
    "    input_df['start_hour'] = input_df['start_datetime'].dt.hour\n",
    "\n",
    "    input_df.loc[input_df['start_dayOfWeek'].isin([5, 6]), 'start_isWeekend'] = 1\n",
    "    input_df.loc[input_df['start_dayOfWeek'].isin([0, 1, 2, 3, 4]), 'start_isWeekend'] = 0\n",
    "\n",
    "    cal = calendar()\n",
    "    holidays = cal.holidays(start=input_df['start_date'].min(), end=input_df['start_date'].max())\n",
    "    input_df['start_isHoliday'] = np.where(input_df.start_datetime.dt.normalize().isin(holidays), 1, 0)\n",
    "    return input_df"
   ]
  },
  {
   "cell_type": "code",
   "execution_count": 128,
   "metadata": {
    "collapsed": true
   },
   "outputs": [],
   "source": [
    "Train_with_weather_Trip_date = create_date_features(Train_with_weather_Trip)"
   ]
  },
  {
   "cell_type": "code",
   "execution_count": 131,
   "metadata": {},
   "outputs": [
    {
     "data": {
      "text/html": [
       "<div>\n",
       "<style>\n",
       "    .dataframe thead tr:only-child th {\n",
       "        text-align: right;\n",
       "    }\n",
       "\n",
       "    .dataframe thead th {\n",
       "        text-align: left;\n",
       "    }\n",
       "\n",
       "    .dataframe tbody tr th {\n",
       "        vertical-align: top;\n",
       "    }\n",
       "</style>\n",
       "<table border=\"1\" class=\"dataframe\">\n",
       "  <thead>\n",
       "    <tr style=\"text-align: right;\">\n",
       "      <th></th>\n",
       "      <th>row_id</th>\n",
       "      <th>start_lng</th>\n",
       "      <th>start_lat</th>\n",
       "      <th>end_lng</th>\n",
       "      <th>end_lat</th>\n",
       "      <th>start_timestamp</th>\n",
       "      <th>duration</th>\n",
       "      <th>date_id_tmp</th>\n",
       "      <th>date_id_left</th>\n",
       "      <th>Date</th>\n",
       "      <th>...</th>\n",
       "      <th>trip_cnt_by_end</th>\n",
       "      <th>trip_duration_by_start</th>\n",
       "      <th>trip_duration_by_end</th>\n",
       "      <th>start_datetime</th>\n",
       "      <th>start_date</th>\n",
       "      <th>start_month</th>\n",
       "      <th>start_dayOfWeek</th>\n",
       "      <th>start_hour</th>\n",
       "      <th>start_isWeekend</th>\n",
       "      <th>start_isHoliday</th>\n",
       "    </tr>\n",
       "  </thead>\n",
       "  <tbody>\n",
       "    <tr>\n",
       "      <th>0</th>\n",
       "      <td>0</td>\n",
       "      <td>-74.009087</td>\n",
       "      <td>40.713818</td>\n",
       "      <td>-74.004326</td>\n",
       "      <td>40.719986</td>\n",
       "      <td>1420950819</td>\n",
       "      <td>112</td>\n",
       "      <td>2015-01-11</td>\n",
       "      <td>2015-01-11</td>\n",
       "      <td>1/11/2015</td>\n",
       "      <td>...</td>\n",
       "      <td>1495</td>\n",
       "      <td>850.331414</td>\n",
       "      <td>715.309699</td>\n",
       "      <td>2015-01-11 04:33:39</td>\n",
       "      <td>2015-01-11</td>\n",
       "      <td>1</td>\n",
       "      <td>6</td>\n",
       "      <td>4</td>\n",
       "      <td>1.0</td>\n",
       "      <td>0</td>\n",
       "    </tr>\n",
       "    <tr>\n",
       "      <th>1</th>\n",
       "      <td>1</td>\n",
       "      <td>-73.971176</td>\n",
       "      <td>40.762428</td>\n",
       "      <td>-74.004181</td>\n",
       "      <td>40.742653</td>\n",
       "      <td>1420950819</td>\n",
       "      <td>1159</td>\n",
       "      <td>2015-01-11</td>\n",
       "      <td>2015-01-11</td>\n",
       "      <td>1/11/2015</td>\n",
       "      <td>...</td>\n",
       "      <td>10631</td>\n",
       "      <td>764.462027</td>\n",
       "      <td>688.180322</td>\n",
       "      <td>2015-01-11 04:33:39</td>\n",
       "      <td>2015-01-11</td>\n",
       "      <td>1</td>\n",
       "      <td>6</td>\n",
       "      <td>4</td>\n",
       "      <td>1.0</td>\n",
       "      <td>0</td>\n",
       "    </tr>\n",
       "    <tr>\n",
       "      <th>2</th>\n",
       "      <td>2</td>\n",
       "      <td>-73.994957</td>\n",
       "      <td>40.745079</td>\n",
       "      <td>-73.999939</td>\n",
       "      <td>40.734650</td>\n",
       "      <td>1421377541</td>\n",
       "      <td>281</td>\n",
       "      <td>2015-01-16</td>\n",
       "      <td>2015-01-16</td>\n",
       "      <td>1/16/2015</td>\n",
       "      <td>...</td>\n",
       "      <td>4782</td>\n",
       "      <td>652.257564</td>\n",
       "      <td>675.881430</td>\n",
       "      <td>2015-01-16 03:05:41</td>\n",
       "      <td>2015-01-16</td>\n",
       "      <td>1</td>\n",
       "      <td>4</td>\n",
       "      <td>3</td>\n",
       "      <td>0.0</td>\n",
       "      <td>0</td>\n",
       "    </tr>\n",
       "    <tr>\n",
       "      <th>3</th>\n",
       "      <td>3</td>\n",
       "      <td>-73.991127</td>\n",
       "      <td>40.750080</td>\n",
       "      <td>-73.988609</td>\n",
       "      <td>40.734890</td>\n",
       "      <td>1421377542</td>\n",
       "      <td>636</td>\n",
       "      <td>2015-01-16</td>\n",
       "      <td>2015-01-16</td>\n",
       "      <td>1/16/2015</td>\n",
       "      <td>...</td>\n",
       "      <td>2986</td>\n",
       "      <td>850.666625</td>\n",
       "      <td>738.551909</td>\n",
       "      <td>2015-01-16 03:05:42</td>\n",
       "      <td>2015-01-16</td>\n",
       "      <td>1</td>\n",
       "      <td>4</td>\n",
       "      <td>3</td>\n",
       "      <td>0.0</td>\n",
       "      <td>0</td>\n",
       "    </tr>\n",
       "    <tr>\n",
       "      <th>4</th>\n",
       "      <td>4</td>\n",
       "      <td>-73.945511</td>\n",
       "      <td>40.773724</td>\n",
       "      <td>-73.987434</td>\n",
       "      <td>40.755707</td>\n",
       "      <td>1422173586</td>\n",
       "      <td>705</td>\n",
       "      <td>2015-01-25</td>\n",
       "      <td>2015-01-25</td>\n",
       "      <td>1/25/2015</td>\n",
       "      <td>...</td>\n",
       "      <td>8497</td>\n",
       "      <td>747.302734</td>\n",
       "      <td>843.338590</td>\n",
       "      <td>2015-01-25 08:13:06</td>\n",
       "      <td>2015-01-25</td>\n",
       "      <td>1</td>\n",
       "      <td>6</td>\n",
       "      <td>8</td>\n",
       "      <td>1.0</td>\n",
       "      <td>0</td>\n",
       "    </tr>\n",
       "  </tbody>\n",
       "</table>\n",
       "<p>5 rows × 35 columns</p>\n",
       "</div>"
      ],
      "text/plain": [
       "   row_id  start_lng  start_lat    end_lng    end_lat  start_timestamp  \\\n",
       "0       0 -74.009087  40.713818 -74.004326  40.719986       1420950819   \n",
       "1       1 -73.971176  40.762428 -74.004181  40.742653       1420950819   \n",
       "2       2 -73.994957  40.745079 -73.999939  40.734650       1421377541   \n",
       "3       3 -73.991127  40.750080 -73.988609  40.734890       1421377542   \n",
       "4       4 -73.945511  40.773724 -73.987434  40.755707       1422173586   \n",
       "\n",
       "   duration date_id_tmp date_id_left       Date       ...        \\\n",
       "0       112  2015-01-11   2015-01-11  1/11/2015       ...         \n",
       "1      1159  2015-01-11   2015-01-11  1/11/2015       ...         \n",
       "2       281  2015-01-16   2015-01-16  1/16/2015       ...         \n",
       "3       636  2015-01-16   2015-01-16  1/16/2015       ...         \n",
       "4       705  2015-01-25   2015-01-25  1/25/2015       ...         \n",
       "\n",
       "   trip_cnt_by_end  trip_duration_by_start  trip_duration_by_end  \\\n",
       "0             1495              850.331414            715.309699   \n",
       "1            10631              764.462027            688.180322   \n",
       "2             4782              652.257564            675.881430   \n",
       "3             2986              850.666625            738.551909   \n",
       "4             8497              747.302734            843.338590   \n",
       "\n",
       "       start_datetime  start_date  start_month  start_dayOfWeek  start_hour  \\\n",
       "0 2015-01-11 04:33:39  2015-01-11            1                6           4   \n",
       "1 2015-01-11 04:33:39  2015-01-11            1                6           4   \n",
       "2 2015-01-16 03:05:41  2015-01-16            1                4           3   \n",
       "3 2015-01-16 03:05:42  2015-01-16            1                4           3   \n",
       "4 2015-01-25 08:13:06  2015-01-25            1                6           8   \n",
       "\n",
       "   start_isWeekend start_isHoliday  \n",
       "0              1.0               0  \n",
       "1              1.0               0  \n",
       "2              0.0               0  \n",
       "3              0.0               0  \n",
       "4              1.0               0  \n",
       "\n",
       "[5 rows x 35 columns]"
      ]
     },
     "execution_count": 131,
     "metadata": {},
     "output_type": "execute_result"
    }
   ],
   "source": [
    "Train_with_weather_Trip_date.head()"
   ]
  },
  {
   "cell_type": "markdown",
   "metadata": {},
   "source": [
    "### Create Distance: Haversine Distance, GeoHash Distance, "
   ]
  },
  {
   "cell_type": "code",
   "execution_count": 133,
   "metadata": {
    "collapsed": true
   },
   "outputs": [],
   "source": [
    "def haversine_dist(lat1, lon1, lat2, lon2):\n",
    "    #radius = 6371 # km\n",
    "    radius = 3959 #miles\n",
    "\n",
    "    dlat = math.radians(lat2-lat1)\n",
    "    dlon = math.radians(lon2-lon1)\n",
    "    a = math.sin(dlat/2) * math.sin(dlat/2) + math.cos(math.radians(lat1)) \\\n",
    "        * math.cos(math.radians(lat2)) * math.sin(dlon/2) * math.sin(dlon/2)\n",
    "    c = 2 * math.atan2(math.sqrt(a), math.sqrt(1-a))\n",
    "    d = radius * c\n",
    "\n",
    "    return d"
   ]
  },
  {
   "cell_type": "code",
   "execution_count": 134,
   "metadata": {
    "collapsed": true
   },
   "outputs": [],
   "source": [
    "def create_hav_dist_feature(input_df):\n",
    "    lat1 = input_df['start_lat'].tolist()\n",
    "    lon1 = input_df['start_lng'].tolist()\n",
    "    lat2 = input_df['end_lat'].tolist()\n",
    "    lon2 = input_df['end_lng'].tolist()\n",
    "\n",
    "    tripDistance = list(map(haversine_dist, lat1, lon1, lat2, lon2))\n",
    "\n",
    "    tripDistance_DF = pd.DataFrame({'haversineDist': tripDistance})\n",
    "\n",
    "    input_df = pd.concat([input_df, tripDistance_DF], axis=1)\n",
    "    return input_df"
   ]
  },
  {
   "cell_type": "code",
   "execution_count": 135,
   "metadata": {
    "collapsed": true
   },
   "outputs": [],
   "source": [
    "Train_with_weather_Trip_date_hav = create_hav_dist_feature(Train_with_weather_Trip_date)"
   ]
  },
  {
   "cell_type": "code",
   "execution_count": 137,
   "metadata": {},
   "outputs": [
    {
     "data": {
      "text/html": [
       "<div>\n",
       "<style>\n",
       "    .dataframe thead tr:only-child th {\n",
       "        text-align: right;\n",
       "    }\n",
       "\n",
       "    .dataframe thead th {\n",
       "        text-align: left;\n",
       "    }\n",
       "\n",
       "    .dataframe tbody tr th {\n",
       "        vertical-align: top;\n",
       "    }\n",
       "</style>\n",
       "<table border=\"1\" class=\"dataframe\">\n",
       "  <thead>\n",
       "    <tr style=\"text-align: right;\">\n",
       "      <th></th>\n",
       "      <th>row_id</th>\n",
       "      <th>start_lng</th>\n",
       "      <th>start_lat</th>\n",
       "      <th>end_lng</th>\n",
       "      <th>end_lat</th>\n",
       "      <th>start_timestamp</th>\n",
       "      <th>duration</th>\n",
       "      <th>date_id_tmp</th>\n",
       "      <th>date_id_left</th>\n",
       "      <th>Date</th>\n",
       "      <th>...</th>\n",
       "      <th>trip_duration_by_start</th>\n",
       "      <th>trip_duration_by_end</th>\n",
       "      <th>start_datetime</th>\n",
       "      <th>start_date</th>\n",
       "      <th>start_month</th>\n",
       "      <th>start_dayOfWeek</th>\n",
       "      <th>start_hour</th>\n",
       "      <th>start_isWeekend</th>\n",
       "      <th>start_isHoliday</th>\n",
       "      <th>haversineDist</th>\n",
       "    </tr>\n",
       "  </thead>\n",
       "  <tbody>\n",
       "    <tr>\n",
       "      <th>12905710</th>\n",
       "      <td>12905710</td>\n",
       "      <td>-73.994621</td>\n",
       "      <td>40.752434</td>\n",
       "      <td>-73.994621</td>\n",
       "      <td>40.752434</td>\n",
       "      <td>1451634880</td>\n",
       "      <td>98</td>\n",
       "      <td>2016-01-01</td>\n",
       "      <td>2016-01-01</td>\n",
       "      <td>1/1/2016</td>\n",
       "      <td>...</td>\n",
       "      <td>816.422452</td>\n",
       "      <td>989.006425</td>\n",
       "      <td>2016-01-01 07:54:40</td>\n",
       "      <td>2016-01-01</td>\n",
       "      <td>1</td>\n",
       "      <td>4</td>\n",
       "      <td>7</td>\n",
       "      <td>0.0</td>\n",
       "      <td>1</td>\n",
       "      <td>0.000000</td>\n",
       "    </tr>\n",
       "    <tr>\n",
       "      <th>12905711</th>\n",
       "      <td>12905711</td>\n",
       "      <td>-73.988258</td>\n",
       "      <td>40.731770</td>\n",
       "      <td>-73.983627</td>\n",
       "      <td>40.725861</td>\n",
       "      <td>1451634910</td>\n",
       "      <td>227</td>\n",
       "      <td>2016-01-01</td>\n",
       "      <td>2016-01-01</td>\n",
       "      <td>1/1/2016</td>\n",
       "      <td>...</td>\n",
       "      <td>714.532497</td>\n",
       "      <td>705.998754</td>\n",
       "      <td>2016-01-01 07:55:10</td>\n",
       "      <td>2016-01-01</td>\n",
       "      <td>1</td>\n",
       "      <td>4</td>\n",
       "      <td>7</td>\n",
       "      <td>0.0</td>\n",
       "      <td>1</td>\n",
       "      <td>0.474878</td>\n",
       "    </tr>\n",
       "    <tr>\n",
       "      <th>12905712</th>\n",
       "      <td>12905712</td>\n",
       "      <td>-73.994209</td>\n",
       "      <td>40.741879</td>\n",
       "      <td>-73.996269</td>\n",
       "      <td>40.742676</td>\n",
       "      <td>1451634968</td>\n",
       "      <td>43</td>\n",
       "      <td>2016-01-01</td>\n",
       "      <td>2016-01-01</td>\n",
       "      <td>1/1/2016</td>\n",
       "      <td>...</td>\n",
       "      <td>730.159291</td>\n",
       "      <td>671.619076</td>\n",
       "      <td>2016-01-01 07:56:08</td>\n",
       "      <td>2016-01-01</td>\n",
       "      <td>1</td>\n",
       "      <td>4</td>\n",
       "      <td>7</td>\n",
       "      <td>0.0</td>\n",
       "      <td>1</td>\n",
       "      <td>0.121092</td>\n",
       "    </tr>\n",
       "    <tr>\n",
       "      <th>12905713</th>\n",
       "      <td>12905713</td>\n",
       "      <td>-73.981796</td>\n",
       "      <td>40.778156</td>\n",
       "      <td>-73.980896</td>\n",
       "      <td>40.781826</td>\n",
       "      <td>1451634971</td>\n",
       "      <td>171</td>\n",
       "      <td>2016-01-01</td>\n",
       "      <td>2016-01-01</td>\n",
       "      <td>1/1/2016</td>\n",
       "      <td>...</td>\n",
       "      <td>669.063375</td>\n",
       "      <td>688.877747</td>\n",
       "      <td>2016-01-01 07:56:11</td>\n",
       "      <td>2016-01-01</td>\n",
       "      <td>1</td>\n",
       "      <td>4</td>\n",
       "      <td>7</td>\n",
       "      <td>0.0</td>\n",
       "      <td>1</td>\n",
       "      <td>0.257923</td>\n",
       "    </tr>\n",
       "    <tr>\n",
       "      <th>12905714</th>\n",
       "      <td>12905714</td>\n",
       "      <td>-73.966759</td>\n",
       "      <td>40.773186</td>\n",
       "      <td>-73.972054</td>\n",
       "      <td>40.765629</td>\n",
       "      <td>1451635024</td>\n",
       "      <td>89</td>\n",
       "      <td>2016-01-01</td>\n",
       "      <td>2016-01-01</td>\n",
       "      <td>1/1/2016</td>\n",
       "      <td>...</td>\n",
       "      <td>816.950504</td>\n",
       "      <td>760.118718</td>\n",
       "      <td>2016-01-01 07:57:04</td>\n",
       "      <td>2016-01-01</td>\n",
       "      <td>1</td>\n",
       "      <td>4</td>\n",
       "      <td>7</td>\n",
       "      <td>0.0</td>\n",
       "      <td>1</td>\n",
       "      <td>0.591136</td>\n",
       "    </tr>\n",
       "  </tbody>\n",
       "</table>\n",
       "<p>5 rows × 36 columns</p>\n",
       "</div>"
      ],
      "text/plain": [
       "            row_id  start_lng  start_lat    end_lng    end_lat  \\\n",
       "12905710  12905710 -73.994621  40.752434 -73.994621  40.752434   \n",
       "12905711  12905711 -73.988258  40.731770 -73.983627  40.725861   \n",
       "12905712  12905712 -73.994209  40.741879 -73.996269  40.742676   \n",
       "12905713  12905713 -73.981796  40.778156 -73.980896  40.781826   \n",
       "12905714  12905714 -73.966759  40.773186 -73.972054  40.765629   \n",
       "\n",
       "          start_timestamp  duration date_id_tmp date_id_left      Date  \\\n",
       "12905710       1451634880        98  2016-01-01   2016-01-01  1/1/2016   \n",
       "12905711       1451634910       227  2016-01-01   2016-01-01  1/1/2016   \n",
       "12905712       1451634968        43  2016-01-01   2016-01-01  1/1/2016   \n",
       "12905713       1451634971       171  2016-01-01   2016-01-01  1/1/2016   \n",
       "12905714       1451635024        89  2016-01-01   2016-01-01  1/1/2016   \n",
       "\n",
       "              ...       trip_duration_by_start  trip_duration_by_end  \\\n",
       "12905710      ...                   816.422452            989.006425   \n",
       "12905711      ...                   714.532497            705.998754   \n",
       "12905712      ...                   730.159291            671.619076   \n",
       "12905713      ...                   669.063375            688.877747   \n",
       "12905714      ...                   816.950504            760.118718   \n",
       "\n",
       "              start_datetime  start_date  start_month  start_dayOfWeek  \\\n",
       "12905710 2016-01-01 07:54:40  2016-01-01            1                4   \n",
       "12905711 2016-01-01 07:55:10  2016-01-01            1                4   \n",
       "12905712 2016-01-01 07:56:08  2016-01-01            1                4   \n",
       "12905713 2016-01-01 07:56:11  2016-01-01            1                4   \n",
       "12905714 2016-01-01 07:57:04  2016-01-01            1                4   \n",
       "\n",
       "          start_hour  start_isWeekend  start_isHoliday haversineDist  \n",
       "12905710           7              0.0                1      0.000000  \n",
       "12905711           7              0.0                1      0.474878  \n",
       "12905712           7              0.0                1      0.121092  \n",
       "12905713           7              0.0                1      0.257923  \n",
       "12905714           7              0.0                1      0.591136  \n",
       "\n",
       "[5 rows x 36 columns]"
      ]
     },
     "execution_count": 137,
     "metadata": {},
     "output_type": "execute_result"
    }
   ],
   "source": [
    "Train_with_weather_Trip_date_hav.tail()"
   ]
  },
  {
   "cell_type": "code",
   "execution_count": null,
   "metadata": {
    "collapsed": true
   },
   "outputs": [],
   "source": []
  },
  {
   "cell_type": "code",
   "execution_count": 142,
   "metadata": {
    "collapsed": true
   },
   "outputs": [],
   "source": [
    "def create_geohash_dist_feature(input_df):\n",
    "    lat1 = input_df['start_lat'].tolist()\n",
    "    lon1 = input_df['start_lng'].tolist()\n",
    "    lat2 = input_df['end_lat'].tolist()\n",
    "    lon2 = input_df['end_lng'].tolist()\n",
    "    \n",
    "    start_geohash = [pgh.encode(x,y) for x,y in zip(lat1, lon1)]\n",
    "    end_geohash = [pgh.encode(x,y) for x,y in zip(lat2, lon2)]\n",
    "    \n",
    "    geodistance = [pgh.geohash_approximate_distance(x,y) for x,y in zip(start_geohash, end_geohash)]\n",
    "\n",
    "    start_geohash_DF = pd.DataFrame({'start_geohash': start_geohash})\n",
    "    end_geohash_DF = pd.DataFrame({'end_geohash': end_geohash})\n",
    "    geodistance_DF = pd.DataFrame({'geoDist': geodistance})\n",
    "\n",
    "    input_df = pd.concat([input_df, geodistance_DF], axis=1)\n",
    "    input_df = pd.concat([input_df, start_geohash_DF], axis=1)\n",
    "    input_df = pd.concat([input_df, end_geohash_DF], axis=1)\n",
    "    return input_df"
   ]
  },
  {
   "cell_type": "code",
   "execution_count": 143,
   "metadata": {
    "collapsed": true
   },
   "outputs": [],
   "source": [
    "Train_with_weather_Trip_date_hav_geo = create_geohash_dist_feature(Train_with_weather_Trip_date_hav)"
   ]
  },
  {
   "cell_type": "code",
   "execution_count": 146,
   "metadata": {},
   "outputs": [
    {
     "data": {
      "text/html": [
       "<div>\n",
       "<style>\n",
       "    .dataframe thead tr:only-child th {\n",
       "        text-align: right;\n",
       "    }\n",
       "\n",
       "    .dataframe thead th {\n",
       "        text-align: left;\n",
       "    }\n",
       "\n",
       "    .dataframe tbody tr th {\n",
       "        vertical-align: top;\n",
       "    }\n",
       "</style>\n",
       "<table border=\"1\" class=\"dataframe\">\n",
       "  <thead>\n",
       "    <tr style=\"text-align: right;\">\n",
       "      <th></th>\n",
       "      <th>row_id</th>\n",
       "      <th>start_lng</th>\n",
       "      <th>start_lat</th>\n",
       "      <th>end_lng</th>\n",
       "      <th>end_lat</th>\n",
       "      <th>start_timestamp</th>\n",
       "      <th>duration</th>\n",
       "      <th>date_id_tmp</th>\n",
       "      <th>date_id_left</th>\n",
       "      <th>Date</th>\n",
       "      <th>...</th>\n",
       "      <th>start_date</th>\n",
       "      <th>start_month</th>\n",
       "      <th>start_dayOfWeek</th>\n",
       "      <th>start_hour</th>\n",
       "      <th>start_isWeekend</th>\n",
       "      <th>start_isHoliday</th>\n",
       "      <th>haversineDist</th>\n",
       "      <th>geoDist</th>\n",
       "      <th>start_geohash</th>\n",
       "      <th>end_geohash</th>\n",
       "    </tr>\n",
       "  </thead>\n",
       "  <tbody>\n",
       "    <tr>\n",
       "      <th>0</th>\n",
       "      <td>0</td>\n",
       "      <td>-74.009087</td>\n",
       "      <td>40.713818</td>\n",
       "      <td>-74.004326</td>\n",
       "      <td>40.719986</td>\n",
       "      <td>1420950819</td>\n",
       "      <td>112</td>\n",
       "      <td>2015-01-11</td>\n",
       "      <td>2015-01-11</td>\n",
       "      <td>1/11/2015</td>\n",
       "      <td>...</td>\n",
       "      <td>2015-01-11</td>\n",
       "      <td>1</td>\n",
       "      <td>6</td>\n",
       "      <td>4</td>\n",
       "      <td>1.0</td>\n",
       "      <td>0</td>\n",
       "      <td>0.493774</td>\n",
       "      <td>3803.0</td>\n",
       "      <td>dr5regsppmbb</td>\n",
       "      <td>dr5reuzen5x4</td>\n",
       "    </tr>\n",
       "    <tr>\n",
       "      <th>1</th>\n",
       "      <td>1</td>\n",
       "      <td>-73.971176</td>\n",
       "      <td>40.762428</td>\n",
       "      <td>-74.004181</td>\n",
       "      <td>40.742653</td>\n",
       "      <td>1420950819</td>\n",
       "      <td>1159</td>\n",
       "      <td>2015-01-11</td>\n",
       "      <td>2015-01-11</td>\n",
       "      <td>1/11/2015</td>\n",
       "      <td>...</td>\n",
       "      <td>2015-01-11</td>\n",
       "      <td>1</td>\n",
       "      <td>6</td>\n",
       "      <td>4</td>\n",
       "      <td>1.0</td>\n",
       "      <td>0</td>\n",
       "      <td>2.202658</td>\n",
       "      <td>19545.0</td>\n",
       "      <td>dr5rusxf6em6</td>\n",
       "      <td>dr5rgbzz1sgp</td>\n",
       "    </tr>\n",
       "    <tr>\n",
       "      <th>2</th>\n",
       "      <td>2</td>\n",
       "      <td>-73.994957</td>\n",
       "      <td>40.745079</td>\n",
       "      <td>-73.999939</td>\n",
       "      <td>40.734650</td>\n",
       "      <td>1421377541</td>\n",
       "      <td>281</td>\n",
       "      <td>2015-01-16</td>\n",
       "      <td>2015-01-16</td>\n",
       "      <td>1/16/2015</td>\n",
       "      <td>...</td>\n",
       "      <td>2015-01-16</td>\n",
       "      <td>1</td>\n",
       "      <td>4</td>\n",
       "      <td>3</td>\n",
       "      <td>0.0</td>\n",
       "      <td>0</td>\n",
       "      <td>0.766369</td>\n",
       "      <td>19545.0</td>\n",
       "      <td>dr5ru1qt291p</td>\n",
       "      <td>dr5rspdbs3nh</td>\n",
       "    </tr>\n",
       "    <tr>\n",
       "      <th>3</th>\n",
       "      <td>3</td>\n",
       "      <td>-73.991127</td>\n",
       "      <td>40.750080</td>\n",
       "      <td>-73.988609</td>\n",
       "      <td>40.734890</td>\n",
       "      <td>1421377542</td>\n",
       "      <td>636</td>\n",
       "      <td>2015-01-16</td>\n",
       "      <td>2015-01-16</td>\n",
       "      <td>1/16/2015</td>\n",
       "      <td>...</td>\n",
       "      <td>2015-01-16</td>\n",
       "      <td>1</td>\n",
       "      <td>4</td>\n",
       "      <td>3</td>\n",
       "      <td>0.0</td>\n",
       "      <td>0</td>\n",
       "      <td>1.057838</td>\n",
       "      <td>19545.0</td>\n",
       "      <td>dr5ru6363v2z</td>\n",
       "      <td>dr5rsre1umy7</td>\n",
       "    </tr>\n",
       "    <tr>\n",
       "      <th>4</th>\n",
       "      <td>4</td>\n",
       "      <td>-73.945511</td>\n",
       "      <td>40.773724</td>\n",
       "      <td>-73.987434</td>\n",
       "      <td>40.755707</td>\n",
       "      <td>1422173586</td>\n",
       "      <td>705</td>\n",
       "      <td>2015-01-25</td>\n",
       "      <td>2015-01-25</td>\n",
       "      <td>1/25/2015</td>\n",
       "      <td>...</td>\n",
       "      <td>2015-01-25</td>\n",
       "      <td>1</td>\n",
       "      <td>6</td>\n",
       "      <td>8</td>\n",
       "      <td>1.0</td>\n",
       "      <td>0</td>\n",
       "      <td>2.522606</td>\n",
       "      <td>19545.0</td>\n",
       "      <td>dr5rvqds0tn9</td>\n",
       "      <td>dr5ru77gpy6w</td>\n",
       "    </tr>\n",
       "  </tbody>\n",
       "</table>\n",
       "<p>5 rows × 39 columns</p>\n",
       "</div>"
      ],
      "text/plain": [
       "   row_id  start_lng  start_lat    end_lng    end_lat  start_timestamp  \\\n",
       "0       0 -74.009087  40.713818 -74.004326  40.719986       1420950819   \n",
       "1       1 -73.971176  40.762428 -74.004181  40.742653       1420950819   \n",
       "2       2 -73.994957  40.745079 -73.999939  40.734650       1421377541   \n",
       "3       3 -73.991127  40.750080 -73.988609  40.734890       1421377542   \n",
       "4       4 -73.945511  40.773724 -73.987434  40.755707       1422173586   \n",
       "\n",
       "   duration date_id_tmp date_id_left       Date      ...       start_date  \\\n",
       "0       112  2015-01-11   2015-01-11  1/11/2015      ...       2015-01-11   \n",
       "1      1159  2015-01-11   2015-01-11  1/11/2015      ...       2015-01-11   \n",
       "2       281  2015-01-16   2015-01-16  1/16/2015      ...       2015-01-16   \n",
       "3       636  2015-01-16   2015-01-16  1/16/2015      ...       2015-01-16   \n",
       "4       705  2015-01-25   2015-01-25  1/25/2015      ...       2015-01-25   \n",
       "\n",
       "   start_month  start_dayOfWeek  start_hour  start_isWeekend  start_isHoliday  \\\n",
       "0            1                6           4              1.0                0   \n",
       "1            1                6           4              1.0                0   \n",
       "2            1                4           3              0.0                0   \n",
       "3            1                4           3              0.0                0   \n",
       "4            1                6           8              1.0                0   \n",
       "\n",
       "   haversineDist  geoDist  start_geohash   end_geohash  \n",
       "0       0.493774   3803.0   dr5regsppmbb  dr5reuzen5x4  \n",
       "1       2.202658  19545.0   dr5rusxf6em6  dr5rgbzz1sgp  \n",
       "2       0.766369  19545.0   dr5ru1qt291p  dr5rspdbs3nh  \n",
       "3       1.057838  19545.0   dr5ru6363v2z  dr5rsre1umy7  \n",
       "4       2.522606  19545.0   dr5rvqds0tn9  dr5ru77gpy6w  \n",
       "\n",
       "[5 rows x 39 columns]"
      ]
     },
     "execution_count": 146,
     "metadata": {},
     "output_type": "execute_result"
    }
   ],
   "source": [
    "Train_with_weather_Trip_date_hav_geo.head()"
   ]
  },
  {
   "cell_type": "markdown",
   "metadata": {},
   "source": [
    "### Distance from starting point to Downtown, direction relative to downtown (away of near)"
   ]
  },
  {
   "cell_type": "code",
   "execution_count": 159,
   "metadata": {
    "collapsed": true
   },
   "outputs": [],
   "source": [
    "def create_downtown_dist_feature(input_df):\n",
    "    lng_dwt_ls = [input_df['end_lng'].median()] * input_df.shape[0]\n",
    "    lat_dwt_ls = [input_df['end_lat'].median()] * input_df.shape[0]\n",
    "    downtown_df = pd.DataFrame({'downtown_lng': lng_dwt_ls, 'downtown_lat': lat_dwt_ls})\n",
    "    input_df = input_df.join(downtown_df)\n",
    "\n",
    "    #distance to downtown from start\n",
    "    Startlat = input_df['start_lat'].tolist()\n",
    "    Startlon = input_df['start_lng'].tolist()\n",
    "    lat = input_df['downtown_lat'].tolist()\n",
    "    lon = input_df['downtown_lng'].tolist()\n",
    "\n",
    "    DistanceToDowntown = list(map(haversine_dist, Startlat, Startlon, lat, lon))\n",
    "    DistanceToDowntown_DF = pd.DataFrame({'DistanceToDowntown': DistanceToDowntown})\n",
    "    input_df = pd.concat([input_df, DistanceToDowntown_DF], axis=1)\n",
    "\n",
    "    return input_df"
   ]
  },
  {
   "cell_type": "code",
   "execution_count": 160,
   "metadata": {
    "collapsed": true
   },
   "outputs": [],
   "source": [
    "def calculate_direction(lat1, lng1, lat2, lng2):\n",
    "    # calculate the angle between two points\n",
    "    lat1, lng1 = math.radians(lat1), math.radians(lng1)\n",
    "    lat2, lng2 = math.radians(lat2), math.radians(lng2)\n",
    "    aa = np.sin(lng2 - lng1) * np.cos(lat2)\n",
    "    bb = np.cos(lat1) * np.sin(lat2) - np.sin(lat1) * np.cos(lat2) * np.cos(lng2 - lng1)\n",
    "    return np.arctan2(aa, bb) + np.pi "
   ]
  },
  {
   "cell_type": "code",
   "execution_count": 161,
   "metadata": {
    "collapsed": true
   },
   "outputs": [],
   "source": [
    "def create_downtown_direction_feature(input_df):\n",
    "    #distance to downtown from start\n",
    "    Startlat = input_df['start_lat'].tolist()\n",
    "    Startlon = input_df['start_lng'].tolist()\n",
    "    lat = input_df['downtown_lat'].tolist()\n",
    "    lon = input_df['downtown_lng'].tolist()\n",
    "\n",
    "    DirectionToDowntown = list(map(calculate_direction, Startlat, Startlon, lat, lon))\n",
    "\n",
    "    DirectionToDowntown_DF = pd.DataFrame({'DirectionToDowntown': DirectionToDowntown})\n",
    "\n",
    "    input_df = pd.concat([input_df, DirectionToDowntown_DF], axis=1)\n",
    "    return input_df\n"
   ]
  },
  {
   "cell_type": "code",
   "execution_count": 162,
   "metadata": {
    "collapsed": true
   },
   "outputs": [],
   "source": [
    "Train_with_weather_Trip_date_hav_geo_dtw = create_downtown_dist_feature(Train_with_weather_Trip_date_hav_geo)\n"
   ]
  },
  {
   "cell_type": "code",
   "execution_count": 163,
   "metadata": {},
   "outputs": [
    {
     "data": {
      "text/html": [
       "<div>\n",
       "<style>\n",
       "    .dataframe thead tr:only-child th {\n",
       "        text-align: right;\n",
       "    }\n",
       "\n",
       "    .dataframe thead th {\n",
       "        text-align: left;\n",
       "    }\n",
       "\n",
       "    .dataframe tbody tr th {\n",
       "        vertical-align: top;\n",
       "    }\n",
       "</style>\n",
       "<table border=\"1\" class=\"dataframe\">\n",
       "  <thead>\n",
       "    <tr style=\"text-align: right;\">\n",
       "      <th></th>\n",
       "      <th>row_id</th>\n",
       "      <th>start_lng</th>\n",
       "      <th>start_lat</th>\n",
       "      <th>end_lng</th>\n",
       "      <th>end_lat</th>\n",
       "      <th>start_timestamp</th>\n",
       "      <th>duration</th>\n",
       "      <th>date_id_tmp</th>\n",
       "      <th>date_id_left</th>\n",
       "      <th>Date</th>\n",
       "      <th>...</th>\n",
       "      <th>start_hour</th>\n",
       "      <th>start_isWeekend</th>\n",
       "      <th>start_isHoliday</th>\n",
       "      <th>haversineDist</th>\n",
       "      <th>geoDist</th>\n",
       "      <th>start_geohash</th>\n",
       "      <th>end_geohash</th>\n",
       "      <th>downtown_lat</th>\n",
       "      <th>downtown_lng</th>\n",
       "      <th>DistanceToDowntown</th>\n",
       "    </tr>\n",
       "  </thead>\n",
       "  <tbody>\n",
       "    <tr>\n",
       "      <th>0</th>\n",
       "      <td>0</td>\n",
       "      <td>-74.009087</td>\n",
       "      <td>40.713818</td>\n",
       "      <td>-74.004326</td>\n",
       "      <td>40.719986</td>\n",
       "      <td>1420950819</td>\n",
       "      <td>112</td>\n",
       "      <td>2015-01-11</td>\n",
       "      <td>2015-01-11</td>\n",
       "      <td>1/11/2015</td>\n",
       "      <td>...</td>\n",
       "      <td>4</td>\n",
       "      <td>1.0</td>\n",
       "      <td>0</td>\n",
       "      <td>0.493774</td>\n",
       "      <td>3803.0</td>\n",
       "      <td>dr5regsppmbb</td>\n",
       "      <td>dr5reuzen5x4</td>\n",
       "      <td>40.754078</td>\n",
       "      <td>-73.980087</td>\n",
       "      <td>3.169278</td>\n",
       "    </tr>\n",
       "    <tr>\n",
       "      <th>1</th>\n",
       "      <td>1</td>\n",
       "      <td>-73.971176</td>\n",
       "      <td>40.762428</td>\n",
       "      <td>-74.004181</td>\n",
       "      <td>40.742653</td>\n",
       "      <td>1420950819</td>\n",
       "      <td>1159</td>\n",
       "      <td>2015-01-11</td>\n",
       "      <td>2015-01-11</td>\n",
       "      <td>1/11/2015</td>\n",
       "      <td>...</td>\n",
       "      <td>4</td>\n",
       "      <td>1.0</td>\n",
       "      <td>0</td>\n",
       "      <td>2.202658</td>\n",
       "      <td>19545.0</td>\n",
       "      <td>dr5rusxf6em6</td>\n",
       "      <td>dr5rgbzz1sgp</td>\n",
       "      <td>40.754078</td>\n",
       "      <td>-73.980087</td>\n",
       "      <td>0.741899</td>\n",
       "    </tr>\n",
       "    <tr>\n",
       "      <th>2</th>\n",
       "      <td>2</td>\n",
       "      <td>-73.994957</td>\n",
       "      <td>40.745079</td>\n",
       "      <td>-73.999939</td>\n",
       "      <td>40.734650</td>\n",
       "      <td>1421377541</td>\n",
       "      <td>281</td>\n",
       "      <td>2015-01-16</td>\n",
       "      <td>2015-01-16</td>\n",
       "      <td>1/16/2015</td>\n",
       "      <td>...</td>\n",
       "      <td>3</td>\n",
       "      <td>0.0</td>\n",
       "      <td>0</td>\n",
       "      <td>0.766369</td>\n",
       "      <td>19545.0</td>\n",
       "      <td>dr5ru1qt291p</td>\n",
       "      <td>dr5rspdbs3nh</td>\n",
       "      <td>40.754078</td>\n",
       "      <td>-73.980087</td>\n",
       "      <td>0.996261</td>\n",
       "    </tr>\n",
       "    <tr>\n",
       "      <th>3</th>\n",
       "      <td>3</td>\n",
       "      <td>-73.991127</td>\n",
       "      <td>40.750080</td>\n",
       "      <td>-73.988609</td>\n",
       "      <td>40.734890</td>\n",
       "      <td>1421377542</td>\n",
       "      <td>636</td>\n",
       "      <td>2015-01-16</td>\n",
       "      <td>2015-01-16</td>\n",
       "      <td>1/16/2015</td>\n",
       "      <td>...</td>\n",
       "      <td>3</td>\n",
       "      <td>0.0</td>\n",
       "      <td>0</td>\n",
       "      <td>1.057838</td>\n",
       "      <td>19545.0</td>\n",
       "      <td>dr5ru6363v2z</td>\n",
       "      <td>dr5rsre1umy7</td>\n",
       "      <td>40.754078</td>\n",
       "      <td>-73.980087</td>\n",
       "      <td>0.640517</td>\n",
       "    </tr>\n",
       "    <tr>\n",
       "      <th>4</th>\n",
       "      <td>4</td>\n",
       "      <td>-73.945511</td>\n",
       "      <td>40.773724</td>\n",
       "      <td>-73.987434</td>\n",
       "      <td>40.755707</td>\n",
       "      <td>1422173586</td>\n",
       "      <td>705</td>\n",
       "      <td>2015-01-25</td>\n",
       "      <td>2015-01-25</td>\n",
       "      <td>1/25/2015</td>\n",
       "      <td>...</td>\n",
       "      <td>8</td>\n",
       "      <td>1.0</td>\n",
       "      <td>0</td>\n",
       "      <td>2.522606</td>\n",
       "      <td>19545.0</td>\n",
       "      <td>dr5rvqds0tn9</td>\n",
       "      <td>dr5ru77gpy6w</td>\n",
       "      <td>40.754078</td>\n",
       "      <td>-73.980087</td>\n",
       "      <td>2.262122</td>\n",
       "    </tr>\n",
       "  </tbody>\n",
       "</table>\n",
       "<p>5 rows × 42 columns</p>\n",
       "</div>"
      ],
      "text/plain": [
       "   row_id  start_lng  start_lat    end_lng    end_lat  start_timestamp  \\\n",
       "0       0 -74.009087  40.713818 -74.004326  40.719986       1420950819   \n",
       "1       1 -73.971176  40.762428 -74.004181  40.742653       1420950819   \n",
       "2       2 -73.994957  40.745079 -73.999939  40.734650       1421377541   \n",
       "3       3 -73.991127  40.750080 -73.988609  40.734890       1421377542   \n",
       "4       4 -73.945511  40.773724 -73.987434  40.755707       1422173586   \n",
       "\n",
       "   duration date_id_tmp date_id_left       Date        ...          \\\n",
       "0       112  2015-01-11   2015-01-11  1/11/2015        ...           \n",
       "1      1159  2015-01-11   2015-01-11  1/11/2015        ...           \n",
       "2       281  2015-01-16   2015-01-16  1/16/2015        ...           \n",
       "3       636  2015-01-16   2015-01-16  1/16/2015        ...           \n",
       "4       705  2015-01-25   2015-01-25  1/25/2015        ...           \n",
       "\n",
       "   start_hour  start_isWeekend  start_isHoliday  haversineDist  geoDist  \\\n",
       "0           4              1.0                0       0.493774   3803.0   \n",
       "1           4              1.0                0       2.202658  19545.0   \n",
       "2           3              0.0                0       0.766369  19545.0   \n",
       "3           3              0.0                0       1.057838  19545.0   \n",
       "4           8              1.0                0       2.522606  19545.0   \n",
       "\n",
       "   start_geohash   end_geohash  downtown_lat  downtown_lng DistanceToDowntown  \n",
       "0   dr5regsppmbb  dr5reuzen5x4     40.754078    -73.980087           3.169278  \n",
       "1   dr5rusxf6em6  dr5rgbzz1sgp     40.754078    -73.980087           0.741899  \n",
       "2   dr5ru1qt291p  dr5rspdbs3nh     40.754078    -73.980087           0.996261  \n",
       "3   dr5ru6363v2z  dr5rsre1umy7     40.754078    -73.980087           0.640517  \n",
       "4   dr5rvqds0tn9  dr5ru77gpy6w     40.754078    -73.980087           2.262122  \n",
       "\n",
       "[5 rows x 42 columns]"
      ]
     },
     "execution_count": 163,
     "metadata": {},
     "output_type": "execute_result"
    }
   ],
   "source": [
    "Train_with_weather_Trip_date_hav_geo_dtw.head()"
   ]
  },
  {
   "cell_type": "code",
   "execution_count": 164,
   "metadata": {
    "collapsed": true
   },
   "outputs": [],
   "source": [
    "Train_with_weather_Trip_date_hav_geo_dtw_dirc = create_downtown_direction_feature(Train_with_weather_Trip_date_hav_geo_dtw)"
   ]
  },
  {
   "cell_type": "code",
   "execution_count": 165,
   "metadata": {},
   "outputs": [
    {
     "data": {
      "text/html": [
       "<div>\n",
       "<style>\n",
       "    .dataframe thead tr:only-child th {\n",
       "        text-align: right;\n",
       "    }\n",
       "\n",
       "    .dataframe thead th {\n",
       "        text-align: left;\n",
       "    }\n",
       "\n",
       "    .dataframe tbody tr th {\n",
       "        vertical-align: top;\n",
       "    }\n",
       "</style>\n",
       "<table border=\"1\" class=\"dataframe\">\n",
       "  <thead>\n",
       "    <tr style=\"text-align: right;\">\n",
       "      <th></th>\n",
       "      <th>row_id</th>\n",
       "      <th>start_lng</th>\n",
       "      <th>start_lat</th>\n",
       "      <th>end_lng</th>\n",
       "      <th>end_lat</th>\n",
       "      <th>start_timestamp</th>\n",
       "      <th>duration</th>\n",
       "      <th>date_id_tmp</th>\n",
       "      <th>date_id_left</th>\n",
       "      <th>Date</th>\n",
       "      <th>...</th>\n",
       "      <th>start_isWeekend</th>\n",
       "      <th>start_isHoliday</th>\n",
       "      <th>haversineDist</th>\n",
       "      <th>geoDist</th>\n",
       "      <th>start_geohash</th>\n",
       "      <th>end_geohash</th>\n",
       "      <th>downtown_lat</th>\n",
       "      <th>downtown_lng</th>\n",
       "      <th>DistanceToDowntown</th>\n",
       "      <th>DirectionToDowntown</th>\n",
       "    </tr>\n",
       "  </thead>\n",
       "  <tbody>\n",
       "    <tr>\n",
       "      <th>0</th>\n",
       "      <td>0</td>\n",
       "      <td>-74.009087</td>\n",
       "      <td>40.713818</td>\n",
       "      <td>-74.004326</td>\n",
       "      <td>40.719986</td>\n",
       "      <td>1420950819</td>\n",
       "      <td>112</td>\n",
       "      <td>2015-01-11</td>\n",
       "      <td>2015-01-11</td>\n",
       "      <td>1/11/2015</td>\n",
       "      <td>...</td>\n",
       "      <td>1.0</td>\n",
       "      <td>0</td>\n",
       "      <td>0.493774</td>\n",
       "      <td>3803.0</td>\n",
       "      <td>dr5regsppmbb</td>\n",
       "      <td>dr5reuzen5x4</td>\n",
       "      <td>40.754078</td>\n",
       "      <td>-73.980087</td>\n",
       "      <td>3.169278</td>\n",
       "      <td>3.641055</td>\n",
       "    </tr>\n",
       "    <tr>\n",
       "      <th>1</th>\n",
       "      <td>1</td>\n",
       "      <td>-73.971176</td>\n",
       "      <td>40.762428</td>\n",
       "      <td>-74.004181</td>\n",
       "      <td>40.742653</td>\n",
       "      <td>1420950819</td>\n",
       "      <td>1159</td>\n",
       "      <td>2015-01-11</td>\n",
       "      <td>2015-01-11</td>\n",
       "      <td>1/11/2015</td>\n",
       "      <td>...</td>\n",
       "      <td>1.0</td>\n",
       "      <td>0</td>\n",
       "      <td>2.202658</td>\n",
       "      <td>19545.0</td>\n",
       "      <td>dr5rusxf6em6</td>\n",
       "      <td>dr5rgbzz1sgp</td>\n",
       "      <td>40.754078</td>\n",
       "      <td>-73.980087</td>\n",
       "      <td>0.741899</td>\n",
       "      <td>0.679870</td>\n",
       "    </tr>\n",
       "    <tr>\n",
       "      <th>2</th>\n",
       "      <td>2</td>\n",
       "      <td>-73.994957</td>\n",
       "      <td>40.745079</td>\n",
       "      <td>-73.999939</td>\n",
       "      <td>40.734650</td>\n",
       "      <td>1421377541</td>\n",
       "      <td>281</td>\n",
       "      <td>2015-01-16</td>\n",
       "      <td>2015-01-16</td>\n",
       "      <td>1/16/2015</td>\n",
       "      <td>...</td>\n",
       "      <td>0.0</td>\n",
       "      <td>0</td>\n",
       "      <td>0.766369</td>\n",
       "      <td>19545.0</td>\n",
       "      <td>dr5ru1qt291p</td>\n",
       "      <td>dr5rspdbs3nh</td>\n",
       "      <td>40.754078</td>\n",
       "      <td>-73.980087</td>\n",
       "      <td>0.996261</td>\n",
       "      <td>4.038270</td>\n",
       "    </tr>\n",
       "    <tr>\n",
       "      <th>3</th>\n",
       "      <td>3</td>\n",
       "      <td>-73.991127</td>\n",
       "      <td>40.750080</td>\n",
       "      <td>-73.988609</td>\n",
       "      <td>40.734890</td>\n",
       "      <td>1421377542</td>\n",
       "      <td>636</td>\n",
       "      <td>2015-01-16</td>\n",
       "      <td>2015-01-16</td>\n",
       "      <td>1/16/2015</td>\n",
       "      <td>...</td>\n",
       "      <td>0.0</td>\n",
       "      <td>0</td>\n",
       "      <td>1.057838</td>\n",
       "      <td>19545.0</td>\n",
       "      <td>dr5ru6363v2z</td>\n",
       "      <td>dr5rsre1umy7</td>\n",
       "      <td>40.754078</td>\n",
       "      <td>-73.980087</td>\n",
       "      <td>0.640517</td>\n",
       "      <td>4.266397</td>\n",
       "    </tr>\n",
       "    <tr>\n",
       "      <th>4</th>\n",
       "      <td>4</td>\n",
       "      <td>-73.945511</td>\n",
       "      <td>40.773724</td>\n",
       "      <td>-73.987434</td>\n",
       "      <td>40.755707</td>\n",
       "      <td>1422173586</td>\n",
       "      <td>705</td>\n",
       "      <td>2015-01-25</td>\n",
       "      <td>2015-01-25</td>\n",
       "      <td>1/25/2015</td>\n",
       "      <td>...</td>\n",
       "      <td>1.0</td>\n",
       "      <td>0</td>\n",
       "      <td>2.522606</td>\n",
       "      <td>19545.0</td>\n",
       "      <td>dr5rvqds0tn9</td>\n",
       "      <td>dr5ru77gpy6w</td>\n",
       "      <td>40.754078</td>\n",
       "      <td>-73.980087</td>\n",
       "      <td>2.262122</td>\n",
       "      <td>0.927372</td>\n",
       "    </tr>\n",
       "  </tbody>\n",
       "</table>\n",
       "<p>5 rows × 43 columns</p>\n",
       "</div>"
      ],
      "text/plain": [
       "   row_id  start_lng  start_lat    end_lng    end_lat  start_timestamp  \\\n",
       "0       0 -74.009087  40.713818 -74.004326  40.719986       1420950819   \n",
       "1       1 -73.971176  40.762428 -74.004181  40.742653       1420950819   \n",
       "2       2 -73.994957  40.745079 -73.999939  40.734650       1421377541   \n",
       "3       3 -73.991127  40.750080 -73.988609  40.734890       1421377542   \n",
       "4       4 -73.945511  40.773724 -73.987434  40.755707       1422173586   \n",
       "\n",
       "   duration date_id_tmp date_id_left       Date         ...          \\\n",
       "0       112  2015-01-11   2015-01-11  1/11/2015         ...           \n",
       "1      1159  2015-01-11   2015-01-11  1/11/2015         ...           \n",
       "2       281  2015-01-16   2015-01-16  1/16/2015         ...           \n",
       "3       636  2015-01-16   2015-01-16  1/16/2015         ...           \n",
       "4       705  2015-01-25   2015-01-25  1/25/2015         ...           \n",
       "\n",
       "   start_isWeekend  start_isHoliday  haversineDist  geoDist  start_geohash  \\\n",
       "0              1.0                0       0.493774   3803.0   dr5regsppmbb   \n",
       "1              1.0                0       2.202658  19545.0   dr5rusxf6em6   \n",
       "2              0.0                0       0.766369  19545.0   dr5ru1qt291p   \n",
       "3              0.0                0       1.057838  19545.0   dr5ru6363v2z   \n",
       "4              1.0                0       2.522606  19545.0   dr5rvqds0tn9   \n",
       "\n",
       "    end_geohash  downtown_lat  downtown_lng  DistanceToDowntown  \\\n",
       "0  dr5reuzen5x4     40.754078    -73.980087            3.169278   \n",
       "1  dr5rgbzz1sgp     40.754078    -73.980087            0.741899   \n",
       "2  dr5rspdbs3nh     40.754078    -73.980087            0.996261   \n",
       "3  dr5rsre1umy7     40.754078    -73.980087            0.640517   \n",
       "4  dr5ru77gpy6w     40.754078    -73.980087            2.262122   \n",
       "\n",
       "  DirectionToDowntown  \n",
       "0            3.641055  \n",
       "1            0.679870  \n",
       "2            4.038270  \n",
       "3            4.266397  \n",
       "4            0.927372  \n",
       "\n",
       "[5 rows x 43 columns]"
      ]
     },
     "execution_count": 165,
     "metadata": {},
     "output_type": "execute_result"
    }
   ],
   "source": [
    "Train_with_weather_Trip_date_hav_geo_dtw_dirc.head()"
   ]
  },
  {
   "cell_type": "code",
   "execution_count": 166,
   "metadata": {
    "collapsed": true
   },
   "outputs": [],
   "source": [
    "Train_with_weather_Trip_date_hav_geo_dtw_dirc.to_csv(r'D:\\Learn\\HomeWork_Lyft\\train_ready.csv',index=False)"
   ]
  },
  {
   "cell_type": "markdown",
   "metadata": {},
   "source": [
    "## Exploratory Data Analysis"
   ]
  },
  {
   "cell_type": "markdown",
   "metadata": {},
   "source": [
    "#### Categorical features"
   ]
  },
  {
   "cell_type": "code",
   "execution_count": 3,
   "metadata": {},
   "outputs": [],
   "source": [
    "Train_with_weather_Trip_date_hav_geo_dtw_dirc = pd.read_csv(r'D:/Learn/HomeWork_Lyft/train_ready.csv')"
   ]
  },
  {
   "cell_type": "code",
   "execution_count": 7,
   "metadata": {
    "collapsed": true
   },
   "outputs": [],
   "source": [
    "duration_by_hour = Train_with_weather_Trip_date_hav_geo_dtw_dirc.groupby(['start_hour'], as_index=False)['duration'].mean()\n",
    "duration_by_dayOfWeek = Train_with_weather_Trip_date_hav_geo_dtw_dirc.groupby(['start_dayOfWeek'], as_index=False)['duration'].mean()\n",
    "duration_by_IsWeekend = Train_with_weather_Trip_date_hav_geo_dtw_dirc.groupby(['start_isWeekend'], as_index=False)['duration'].mean()\n",
    "duration_by_IsHoliday = Train_with_weather_Trip_date_hav_geo_dtw_dirc.groupby(['start_isHoliday'], as_index=False)['duration'].mean()\n",
    "duration_by_month = Train_with_weather_Trip_date_hav_geo_dtw_dirc.groupby(['start_month'], as_index=False)['duration'].mean()\n",
    "duration_by_geoDist = Train_with_weather_Trip_date_hav_geo_dtw_dirc.groupby(['geoDist'], as_index=False)['duration'].mean()\n",
    "duration_by_geoDist['geoDist'] = duration_by_geoDist['geoDist'].astype('str')"
   ]
  },
  {
   "cell_type": "code",
   "execution_count": 8,
   "metadata": {},
   "outputs": [
    {
     "data": {
      "image/png": "[encoded data removed]",
      "text/plain": [
       "<matplotlib.figure.Figure at 0xf4e994e80>"
      ]
     },
     "metadata": {},
     "output_type": "display_data"
    }
   ],
   "source": [
    "plt.bar(duration_by_hour['start_hour'], duration_by_hour['duration'], align='center', alpha=0.5)\n",
    "plt.xticks(duration_by_hour['start_hour'], np.arange(len(duration_by_hour['start_hour'])))\n",
    "plt.ylabel('Average Duration')\n",
    "plt.xlabel('Trip Start Hour')\n",
    "plt.title('Average Duration Vs Hour')\n",
    "plt.show()"
   ]
  },
  {
   "cell_type": "code",
   "execution_count": 9,
   "metadata": {},
   "outputs": [
    {
     "data": {
      "image/png": "[encoded data removed]",
      "text/plain": [
       "<matplotlib.figure.Figure at 0xf4e86d358>"
      ]
     },
     "metadata": {},
     "output_type": "display_data"
    }
   ],
   "source": [
    "plt.bar(duration_by_dayOfWeek['start_dayOfWeek'], duration_by_dayOfWeek['duration'], align='center', alpha=0.5)\n",
    "plt.xticks(duration_by_dayOfWeek['start_dayOfWeek'], np.arange(len(duration_by_dayOfWeek['start_dayOfWeek'])))\n",
    "plt.ylabel('Average Duration')\n",
    "plt.xlabel('Trip Start Day of Week: Monday = 0, Sunday = 6')\n",
    "plt.title('Average Duration Vs Trip Start Day of Week')\n",
    "plt.show()"
   ]
  },
  {
   "cell_type": "code",
   "execution_count": 10,
   "metadata": {},
   "outputs": [
    {
     "data": {
      "image/png": "[encoded data removed]",
      "text/plain": [
       "<matplotlib.figure.Figure at 0xf4e9a5c88>"
      ]
     },
     "metadata": {},
     "output_type": "display_data"
    }
   ],
   "source": [
    "plt.bar(duration_by_IsWeekend['start_isWeekend'], duration_by_IsWeekend['duration'], align='center', alpha=0.5)\n",
    "plt.xticks(duration_by_IsWeekend['start_isWeekend'], np.arange(len(duration_by_IsWeekend['start_isWeekend'])))\n",
    "plt.ylabel('Average Duration')\n",
    "plt.xlabel('Is Weekend?')\n",
    "plt.title('Average Duration Vs Is Weekend?')\n",
    "plt.show()"
   ]
  },
  {
   "cell_type": "code",
   "execution_count": 11,
   "metadata": {},
   "outputs": [
    {
     "data": {
      "image/png": "[encoded data removed]",
      "text/plain": [
       "<matplotlib.figure.Figure at 0x10074551d0>"
      ]
     },
     "metadata": {},
     "output_type": "display_data"
    }
   ],
   "source": [
    "plt.bar(duration_by_IsHoliday['start_isHoliday'], duration_by_IsHoliday['duration'], align='center', alpha=0.5)\n",
    "plt.xticks(duration_by_IsHoliday['start_isHoliday'], np.arange(len(duration_by_IsHoliday['start_isHoliday'])))\n",
    "plt.ylabel('Average Duration')\n",
    "plt.xlabel('Is Holiday?')\n",
    "plt.title('Average Duration Vs Is Holiday?')\n",
    "plt.show()"
   ]
  },
  {
   "cell_type": "code",
   "execution_count": 12,
   "metadata": {},
   "outputs": [
    {
     "data": {
      "image/png": "[encoded data removed]",
      "text/plain": [
       "<matplotlib.figure.Figure at 0x105b3e55f8>"
      ]
     },
     "metadata": {},
     "output_type": "display_data"
    }
   ],
   "source": [
    "plt.bar(duration_by_month['start_month'], duration_by_month['duration'], align='center', alpha=0.5)\n",
    "plt.xticks(duration_by_month['start_month'], np.arange(len(duration_by_month['start_month'])))\n",
    "plt.ylabel('Average Duration')\n",
    "plt.xlabel('Month?')\n",
    "plt.title('Average Duration Vs Month')\n",
    "plt.show()"
   ]
  },
  {
   "cell_type": "code",
   "execution_count": 24,
   "metadata": {},
   "outputs": [
    {
     "data": {
      "image/png": "[encoded data removed]",
      "text/plain": [
       "<matplotlib.figure.Figure at 0xf4f3dfa90>"
      ]
     },
     "metadata": {},
     "output_type": "display_data"
    }
   ],
   "source": [
    "plt.bar(duration_by_geoDist['geoDist'], duration_by_geoDist['duration'], align='center', alpha=0.5)\n",
    "plt.xticks(duration_by_geoDist['geoDist'], np.arange(len(duration_by_geoDist['geoDist'])))\n",
    "plt.ylabel('Average Duration')\n",
    "plt.xlabel('geodistance')\n",
    "plt.title('Average Duration Vs geodistance')\n",
    "plt.show()"
   ]
  },
  {
   "cell_type": "markdown",
   "metadata": {},
   "source": [
    "#### Continuous features"
   ]
  },
  {
   "cell_type": "code",
   "execution_count": 53,
   "metadata": {
    "collapsed": true
   },
   "outputs": [],
   "source": [
    "# Create a sample dataframe for the ease of plotting\n",
    "small_df = Train_with_weather_Trip_date_hav_geo_dtw_dirc.sample(frac=0.001)"
   ]
  },
  {
   "cell_type": "code",
   "execution_count": 54,
   "metadata": {
    "collapsed": true
   },
   "outputs": [],
   "source": [
    "# Remove those extreme duration trips for plotting\n",
    "small_df = small_df.loc[small_df['duration'] < 10000]"
   ]
  },
  {
   "cell_type": "code",
   "execution_count": 55,
   "metadata": {},
   "outputs": [
    {
     "data": {
      "image/png": "[encoded data removed]",
      "text/plain": [
       "<matplotlib.figure.Figure at 0x106a743668>"
      ]
     },
     "metadata": {},
     "output_type": "display_data"
    }
   ],
   "source": [
    "plt.scatter(small_df['Avg_Temp'], small_df['duration'])\n",
    "plt.xlabel('Avg_Temp')\n",
    "plt.ylabel('duration')\n",
    "plt.title('Average vs duration')\n",
    "plt.show()"
   ]
  },
  {
   "cell_type": "code",
   "execution_count": 56,
   "metadata": {},
   "outputs": [
    {
     "data": {
      "image/png": "[encoded data removed]",
      "text/plain": [
       "<matplotlib.figure.Figure at 0xf4e88ada0>"
      ]
     },
     "metadata": {},
     "output_type": "display_data"
    }
   ],
   "source": [
    "plt.scatter(small_df['Snow_Depth'], small_df['duration'])\n",
    "plt.xlabel('Snow_Depth')\n",
    "plt.ylabel('duration')\n",
    "plt.title('Snow Depth vs duration')\n",
    "plt.show()"
   ]
  },
  {
   "cell_type": "code",
   "execution_count": 57,
   "metadata": {},
   "outputs": [
    {
     "data": {
      "image/png": "[encoded data removed]",
      "text/plain": [
       "<matplotlib.figure.Figure at 0x1003d24c50>"
      ]
     },
     "metadata": {},
     "output_type": "display_data"
    }
   ],
   "source": [
    "plt.scatter(small_df['trip_cnt_by_start'], small_df['duration'])\n",
    "plt.xlabel('trip_cnt_by_start')\n",
    "plt.ylabel('duration')\n",
    "plt.title('trip frequency in starting point vs duration')\n",
    "plt.show()"
   ]
  },
  {
   "cell_type": "code",
   "execution_count": 58,
   "metadata": {},
   "outputs": [
    {
     "data": {
      "image/png": "[encoded data removed]",
      "text/plain": [
       "<matplotlib.figure.Figure at 0xf8c8db978>"
      ]
     },
     "metadata": {},
     "output_type": "display_data"
    }
   ],
   "source": [
    "plt.scatter(small_df['trip_cnt_by_end'], small_df['duration'])\n",
    "plt.xlabel('trip_cnt_by_end')\n",
    "plt.ylabel('duration')\n",
    "plt.title('trip frequency in ending point vs duration')\n",
    "plt.show()"
   ]
  },
  {
   "cell_type": "code",
   "execution_count": 59,
   "metadata": {},
   "outputs": [
    {
     "data": {
      "image/png": "[encoded data removed]",
      "text/plain": [
       "<matplotlib.figure.Figure at 0x10102b29e8>"
      ]
     },
     "metadata": {},
     "output_type": "display_data"
    }
   ],
   "source": [
    "plt.scatter(small_df['trip_duration_by_start'], small_df['duration'])\n",
    "plt.xlabel('trip_duration_by_start')\n",
    "plt.ylabel('duration')\n",
    "plt.title('avg trip duration in starting point vs duration')\n",
    "plt.show()"
   ]
  },
  {
   "cell_type": "code",
   "execution_count": 60,
   "metadata": {},
   "outputs": [
    {
     "data": {
      "image/png": "[encoded data removed]",
      "text/plain": [
       "<matplotlib.figure.Figure at 0xf4f74d668>"
      ]
     },
     "metadata": {},
     "output_type": "display_data"
    }
   ],
   "source": [
    "plt.scatter(small_df['trip_duration_by_end'], small_df['duration'])\n",
    "plt.xlabel('trip_duration_by_end')\n",
    "plt.ylabel('duration')\n",
    "plt.title('avg trip duration in ending point vs duration')\n",
    "plt.show()"
   ]
  },
  {
   "cell_type": "code",
   "execution_count": 61,
   "metadata": {},
   "outputs": [
    {
     "data": {
      "image/png": "[encoded data removed]",
      "text/plain": [
       "<matplotlib.figure.Figure at 0x109c85e0b8>"
      ]
     },
     "metadata": {},
     "output_type": "display_data"
    }
   ],
   "source": [
    "plt.scatter(small_df['DistanceToDowntown'], small_df['duration'])\n",
    "plt.xlabel('DistanceToDowntown')\n",
    "plt.ylabel('duration')\n",
    "plt.title('Distance to Downtown vs duration')\n",
    "plt.show()"
   ]
  },
  {
   "cell_type": "code",
   "execution_count": 62,
   "metadata": {},
   "outputs": [
    {
     "data": {
      "image/png": "[encoded data removed]",
      "text/plain": [
       "<matplotlib.figure.Figure at 0xf900e5da0>"
      ]
     },
     "metadata": {},
     "output_type": "display_data"
    }
   ],
   "source": [
    "plt.scatter(small_df['DirectionToDowntown'], small_df['duration'])\n",
    "plt.xlabel('DirectionToDowntown')\n",
    "plt.ylabel('duration')\n",
    "plt.title('Direction to Downtown vs duration')\n",
    "plt.show()"
   ]
  },
  {
   "cell_type": "markdown",
   "metadata": {},
   "source": [
    "## Modeling"
   ]
  },
  {
   "cell_type": "code",
   "execution_count": 64,
   "metadata": {},
   "outputs": [
    {
     "data": {
      "text/plain": [
       "Index(['row_id', 'start_lng', 'start_lat', 'end_lng', 'end_lat',\n",
       "       'start_timestamp', 'duration', 'date_id_tmp', 'date_id_left', 'Date',\n",
       "       'Max_Temp', 'Min_Temp', 'Avg_Temp', 'Temp_Departure', 'HDD', 'CDD',\n",
       "       'Precipition', 'New_Snow', 'Snow_Depth', 'date_id_right', 'start_lat_2',\n",
       "       'start_lng_2', 'end_lng_2', 'end_lat_2', 'trip_cnt_by_start',\n",
       "       'trip_cnt_by_end', 'trip_duration_by_start', 'trip_duration_by_end',\n",
       "       'start_datetime', 'start_date', 'start_month', 'start_dayOfWeek',\n",
       "       'start_hour', 'start_isWeekend', 'start_isHoliday', 'haversineDist',\n",
       "       'geoDist', 'start_geohash', 'end_geohash', 'downtown_lat',\n",
       "       'downtown_lng', 'DistanceToDowntown', 'DirectionToDowntown'],\n",
       "      dtype='object')"
      ]
     },
     "execution_count": 64,
     "metadata": {},
     "output_type": "execute_result"
    }
   ],
   "source": [
    "Train_with_weather_Trip_date_hav_geo_dtw_dirc.columns"
   ]
  },
  {
   "cell_type": "code",
   "execution_count": 65,
   "metadata": {},
   "outputs": [
    {
     "data": {
      "text/plain": [
       "row_id                      int64\n",
       "start_lng                 float64\n",
       "start_lat                 float64\n",
       "end_lng                   float64\n",
       "end_lat                   float64\n",
       "start_timestamp             int64\n",
       "duration                    int64\n",
       "date_id_tmp                object\n",
       "date_id_left               object\n",
       "Date                       object\n",
       "Max_Temp                    int64\n",
       "Min_Temp                    int64\n",
       "Avg_Temp                  float64\n",
       "Temp_Departure            float64\n",
       "HDD                         int64\n",
       "CDD                         int64\n",
       "Precipition               float64\n",
       "New_Snow                  float64\n",
       "Snow_Depth                  int64\n",
       "date_id_right              object\n",
       "start_lat_2               float64\n",
       "start_lng_2               float64\n",
       "end_lng_2                 float64\n",
       "end_lat_2                 float64\n",
       "trip_cnt_by_start           int64\n",
       "trip_cnt_by_end             int64\n",
       "trip_duration_by_start    float64\n",
       "trip_duration_by_end      float64\n",
       "start_datetime             object\n",
       "start_date                 object\n",
       "start_month                 int64\n",
       "start_dayOfWeek             int64\n",
       "start_hour                  int64\n",
       "start_isWeekend           float64\n",
       "start_isHoliday             int64\n",
       "haversineDist             float64\n",
       "geoDist                   float64\n",
       "start_geohash              object\n",
       "end_geohash                object\n",
       "downtown_lat              float64\n",
       "downtown_lng              float64\n",
       "DistanceToDowntown        float64\n",
       "DirectionToDowntown       float64\n",
       "dtype: object"
      ]
     },
     "execution_count": 65,
     "metadata": {},
     "output_type": "execute_result"
    }
   ],
   "source": [
    "Train_with_weather_Trip_date_hav_geo_dtw_dirc.dtypes"
   ]
  },
  {
   "cell_type": "markdown",
   "metadata": {},
   "source": [
    "### Training and Testing split\n"
   ]
  },
  {
   "cell_type": "code",
   "execution_count": 72,
   "metadata": {},
   "outputs": [
    {
     "name": "stderr",
     "output_type": "stream",
     "text": [
      "C:\\ProgramData\\Anaconda3\\lib\\site-packages\\pandas\\core\\frame.py:2352: SettingWithCopyWarning: \n",
      "A value is trying to be set on a copy of a slice from a DataFrame.\n",
      "Try using .loc[row_indexer,col_indexer] = value instead\n",
      "\n",
      "See the caveats in the documentation: http://pandas.pydata.org/pandas-docs/stable/indexing.html#indexing-view-versus-copy\n",
      "  self[k1] = value[k2]\n"
     ]
    },
    {
     "name": "stdout",
     "output_type": "stream",
     "text": [
      "Training size is 90339, Testing size is 38718\n"
     ]
    }
   ],
   "source": [
    "TrainSample = Train_with_weather_Trip_date_hav_geo_dtw_dirc.sample(frac=0.01)\n",
    "\n",
    "# remove extreme durations\n",
    "\n",
    "# Feature lists\n",
    "cont_features =['Avg_Temp', 'Precipition', 'Snow_Depth', 'New_Snow', 'trip_cnt_by_start', 'trip_cnt_by_end', \n",
    "                'trip_duration_by_start', 'trip_duration_by_end', 'haversineDist', 'DistanceToDowntown', 'DirectionToDowntown']\n",
    "cat_features = ['start_month', 'start_dayOfWeek', 'start_hour', 'start_isWeekend', 'start_isHoliday', 'geoDist']\n",
    "\n",
    "TrainFeatures = TrainSample[cont_features + cat_features]\n",
    "TrainFeatures[cat_features] = TrainFeatures[cat_features].astype(object)\n",
    "\n",
    "X_train, X_test, Y_train, Y_test= train_test_split(TrainFeatures, TrainSample['duration'], test_size=0.3, random_state=2017)\n",
    "print(\"Training size is {}, Testing size is {}\".format(len(X_train), len(X_test)))"
   ]
  },
  {
   "cell_type": "markdown",
   "metadata": {},
   "source": [
    "### Linear Model"
   ]
  },
  {
   "cell_type": "markdown",
   "metadata": {},
   "source": [
    "#### Use all continuous features"
   ]
  },
  {
   "cell_type": "code",
   "execution_count": 76,
   "metadata": {},
   "outputs": [
    {
     "name": "stdout",
     "output_type": "stream",
     "text": [
      "Root mean squared error for train: 476.95\n",
      "Root mean squared error for test: 568.68\n"
     ]
    }
   ],
   "source": [
    "lm_cont = linear_model.LinearRegression()\n",
    "lm_cont.fit(X_train[cont_features], Y_train)\n",
    "lm_cont_predict_train = lm_cont.predict(X_train[cont_features])\n",
    "lm_cont_predict_test = lm_cont.predict(X_test[cont_features])\n",
    "\n",
    "print(\"Root mean squared error for train: %.2f\" % math.sqrt(mean_squared_error(Y_train, lm_cont_predict_train)))\n",
    "print(\"Root mean squared error for test: %.2f\" % math.sqrt(mean_squared_error(Y_test, lm_cont_predict_test)))"
   ]
  },
  {
   "cell_type": "markdown",
   "metadata": {},
   "source": [
    "#### Scaled cont features"
   ]
  },
  {
   "cell_type": "code",
   "execution_count": 79,
   "metadata": {},
   "outputs": [
    {
     "name": "stdout",
     "output_type": "stream",
     "text": [
      "Root mean squared error for train: 476.95\n",
      "Root mean squared error for test: 568.89\n"
     ]
    }
   ],
   "source": [
    "X_train_scale=scale(X_train[cont_features])\n",
    "X_test_scale=scale(X_test[cont_features])\n",
    "\n",
    "lm_cont_scale = linear_model.LinearRegression()\n",
    "lm_cont_scale.fit(X_train_scale, Y_train)\n",
    "lm_cont_scale_predict_train = lm_cont_scale.predict(X_train_scale)\n",
    "lm_cont_scale_predict_test = lm_cont_scale.predict(X_test_scale)\n",
    "\n",
    "print(\"Root mean squared error for train: %.2f\" % math.sqrt(mean_squared_error(Y_train, lm_cont_scale_predict_train)))\n",
    "print(\"Root mean squared error for test: %.2f\" % math.sqrt(mean_squared_error(Y_test, lm_cont_scale_predict_test)))"
   ]
  },
  {
   "cell_type": "markdown",
   "metadata": {},
   "source": [
    "#### Use all cat features"
   ]
  },
  {
   "cell_type": "code",
   "execution_count": 74,
   "metadata": {
    "collapsed": true
   },
   "outputs": [],
   "source": [
    "le=LabelEncoder()\n",
    "Cat_Train = X_train[cat_features]\n",
    "Cat_Train = Cat_Train.apply(le.fit_transform)\n",
    "enc = OneHotEncoder()\n",
    "enc.fit(Cat_Train)\n",
    "onehotlabels_train = enc.transform(Cat_Train).toarray()\n",
    "\n",
    "le=LabelEncoder()\n",
    "Cat_test = X_test[cat_features]\n",
    "Cat_test = Cat_test.apply(le.fit_transform)\n",
    "enc = OneHotEncoder()\n",
    "enc.fit(Cat_test)\n",
    "onehotlabels_test = enc.transform(Cat_test).toarray()"
   ]
  },
  {
   "cell_type": "code",
   "execution_count": 77,
   "metadata": {},
   "outputs": [
    {
     "name": "stdout",
     "output_type": "stream",
     "text": [
      "Root mean squared error for train: 581.45\n",
      "Root mean squared error for test: 666.77\n"
     ]
    }
   ],
   "source": [
    "lm_cat = linear_model.LinearRegression()\n",
    "lm_cat.fit(onehotlabels_train, Y_train)\n",
    "lm_cat_predict_train = lm_cat.predict(onehotlabels_train)\n",
    "lm_cat_predict_test = lm_cat.predict(onehotlabels_test)\n",
    "\n",
    "print(\"Root mean squared error for train: %.2f\" % math.sqrt(mean_squared_error(Y_train, lm_cat_predict_train)))\n",
    "print(\"Root mean squared error for test: %.2f\" % math.sqrt(mean_squared_error(Y_test, lm_cat_predict_test)))"
   ]
  },
  {
   "cell_type": "markdown",
   "metadata": {},
   "source": [
    "#### Use continuous and cat features together"
   ]
  },
  {
   "cell_type": "code",
   "execution_count": 80,
   "metadata": {
    "collapsed": true
   },
   "outputs": [],
   "source": [
    "combined_train = pd.concat([pd.DataFrame(X_train_scale), pd.DataFrame(onehotlabels_train)], axis=1)\n",
    "combined_test = pd.concat([pd.DataFrame(X_test_scale), pd.DataFrame(onehotlabels_test)], axis=1)"
   ]
  },
  {
   "cell_type": "code",
   "execution_count": 81,
   "metadata": {},
   "outputs": [
    {
     "name": "stdout",
     "output_type": "stream",
     "text": [
      "Root mean squared error for train: 454.51\n",
      "Root mean squared error for test: 550.94\n"
     ]
    }
   ],
   "source": [
    "lm_all = linear_model.LinearRegression()\n",
    "lm_all.fit(combined_train, Y_train)\n",
    "lm_all_predict_train = lm_all.predict(combined_train)\n",
    "lm_all_predict_test = lm_all.predict(combined_test)\n",
    "\n",
    "print(\"Root mean squared error for train: %.2f\" % math.sqrt(mean_squared_error(Y_train, lm_all_predict_train)))\n",
    "print(\"Root mean squared error for test: %.2f\" % math.sqrt(mean_squared_error(Y_test, lm_all_predict_test)))"
   ]
  },
  {
   "cell_type": "markdown",
   "metadata": {},
   "source": [
    "### Random Forest"
   ]
  },
  {
   "cell_type": "code",
   "execution_count": 84,
   "metadata": {},
   "outputs": [
    {
     "name": "stdout",
     "output_type": "stream",
     "text": [
      "Root mean squared error for train: 465.34\n",
      "Root mean squared error for test: 565.05\n"
     ]
    }
   ],
   "source": [
    "RF = RandomForestRegressor(max_depth=3, random_state=0, n_estimators=100)\n",
    "RF.fit(combined_train, Y_train)\n",
    "RF_predict_train = RF.predict(combined_train)\n",
    "RF_predict_test = RF.predict(combined_test)\n",
    "\n",
    "print(\"Root mean squared error for train: %.2f\" % math.sqrt(mean_squared_error(Y_train, RF_predict_train)))\n",
    "print(\"Root mean squared error for test: %.2f\" % math.sqrt(mean_squared_error(Y_test, RF_predict_test)))"
   ]
  },
  {
   "cell_type": "code",
   "execution_count": 85,
   "metadata": {},
   "outputs": [
    {
     "name": "stdout",
     "output_type": "stream",
     "text": [
      "Root mean squared error for train: 465.65\n",
      "Root mean squared error for test: 565.14\n"
     ]
    }
   ],
   "source": [
    "RF = RandomForestRegressor(max_depth=3, random_state=0, n_estimators=50)\n",
    "RF.fit(combined_train, Y_train)\n",
    "RF_predict_train = RF.predict(combined_train)\n",
    "RF_predict_test = RF.predict(combined_test)\n",
    "\n",
    "print(\"Root mean squared error for train: %.2f\" % math.sqrt(mean_squared_error(Y_train, RF_predict_train)))\n",
    "print(\"Root mean squared error for test: %.2f\" % math.sqrt(mean_squared_error(Y_test, RF_predict_test)))"
   ]
  },
  {
   "cell_type": "code",
   "execution_count": 86,
   "metadata": {},
   "outputs": [
    {
     "name": "stdout",
     "output_type": "stream",
     "text": [
      "Root mean squared error for train: 446.23\n",
      "Root mean squared error for test: 554.81\n"
     ]
    }
   ],
   "source": [
    "RF = RandomForestRegressor(max_depth=5, random_state=0, n_estimators=50)\n",
    "RF.fit(combined_train, Y_train)\n",
    "RF_predict_train = RF.predict(combined_train)\n",
    "RF_predict_test = RF.predict(combined_test)\n",
    "\n",
    "print(\"Root mean squared error for train: %.2f\" % math.sqrt(mean_squared_error(Y_train, RF_predict_train)))\n",
    "print(\"Root mean squared error for test: %.2f\" % math.sqrt(mean_squared_error(Y_test, RF_predict_test)))"
   ]
  },
  {
   "cell_type": "code",
   "execution_count": 87,
   "metadata": {},
   "outputs": [
    {
     "name": "stdout",
     "output_type": "stream",
     "text": [
      "Root mean squared error for train: 445.56\n",
      "Root mean squared error for test: 554.66\n"
     ]
    }
   ],
   "source": [
    "RF = RandomForestRegressor(max_depth=5, random_state=0, n_estimators=75)\n",
    "RF.fit(combined_train, Y_train)\n",
    "RF_predict_train = RF.predict(combined_train)\n",
    "RF_predict_test = RF.predict(combined_test)\n",
    "\n",
    "print(\"Root mean squared error for train: %.2f\" % math.sqrt(mean_squared_error(Y_train, RF_predict_train)))\n",
    "print(\"Root mean squared error for test: %.2f\" % math.sqrt(mean_squared_error(Y_test, RF_predict_test)))"
   ]
  },
  {
   "cell_type": "markdown",
   "metadata": {},
   "source": [
    "### GBM"
   ]
  },
  {
   "cell_type": "code",
   "execution_count": 89,
   "metadata": {},
   "outputs": [
    {
     "name": "stdout",
     "output_type": "stream",
     "text": [
      "Root mean squared error for train: 418.99\n",
      "Root mean squared error for test: 538.73\n"
     ]
    }
   ],
   "source": [
    "params = {'n_estimators': 500, 'max_depth': 4, 'min_samples_split': 2,\n",
    "          'learning_rate': 0.01, 'loss': 'ls'}\n",
    "GBM = ensemble.GradientBoostingRegressor(**params)\n",
    "GBM.fit(combined_train, Y_train)\n",
    "GBM_predict_train = GBM.predict(combined_train)\n",
    "GBM_predict_test = GBM.predict(combined_test)\n",
    "\n",
    "print(\"Root mean squared error for train: %.2f\" % math.sqrt(mean_squared_error(Y_train, GBM_predict_train)))\n",
    "print(\"Root mean squared error for test: %.2f\" % math.sqrt(mean_squared_error(Y_test, GBM_predict_test)))"
   ]
  },
  {
   "cell_type": "code",
   "execution_count": 94,
   "metadata": {},
   "outputs": [
    {
     "ename": "AttributeError",
     "evalue": "'DataFrame' object has no attribute 'feature_names'",
     "output_type": "error",
     "traceback": [
      "\u001b[1;31m---------------------------------------------------------------------------\u001b[0m",
      "\u001b[1;31mAttributeError\u001b[0m                            Traceback (most recent call last)",
      "\u001b[1;32m<ipython-input-94-ab1537132893>\u001b[0m in \u001b[0;36m<module>\u001b[1;34m()\u001b[0m\n\u001b[1;32m----> 1\u001b[1;33m \u001b[0mcombined_train\u001b[0m\u001b[1;33m.\u001b[0m\u001b[0mfeature_names\u001b[0m\u001b[1;33m\u001b[0m\u001b[0m\n\u001b[0m",
      "\u001b[1;32mC:\\ProgramData\\Anaconda3\\lib\\site-packages\\pandas\\core\\generic.py\u001b[0m in \u001b[0;36m__getattr__\u001b[1;34m(self, name)\u001b[0m\n\u001b[0;32m   3079\u001b[0m             \u001b[1;32mif\u001b[0m \u001b[0mname\u001b[0m \u001b[1;32min\u001b[0m \u001b[0mself\u001b[0m\u001b[1;33m.\u001b[0m\u001b[0m_info_axis\u001b[0m\u001b[1;33m:\u001b[0m\u001b[1;33m\u001b[0m\u001b[0m\n\u001b[0;32m   3080\u001b[0m                 \u001b[1;32mreturn\u001b[0m \u001b[0mself\u001b[0m\u001b[1;33m[\u001b[0m\u001b[0mname\u001b[0m\u001b[1;33m]\u001b[0m\u001b[1;33m\u001b[0m\u001b[0m\n\u001b[1;32m-> 3081\u001b[1;33m             \u001b[1;32mreturn\u001b[0m \u001b[0mobject\u001b[0m\u001b[1;33m.\u001b[0m\u001b[0m__getattribute__\u001b[0m\u001b[1;33m(\u001b[0m\u001b[0mself\u001b[0m\u001b[1;33m,\u001b[0m \u001b[0mname\u001b[0m\u001b[1;33m)\u001b[0m\u001b[1;33m\u001b[0m\u001b[0m\n\u001b[0m\u001b[0;32m   3082\u001b[0m \u001b[1;33m\u001b[0m\u001b[0m\n\u001b[0;32m   3083\u001b[0m     \u001b[1;32mdef\u001b[0m \u001b[0m__setattr__\u001b[0m\u001b[1;33m(\u001b[0m\u001b[0mself\u001b[0m\u001b[1;33m,\u001b[0m \u001b[0mname\u001b[0m\u001b[1;33m,\u001b[0m \u001b[0mvalue\u001b[0m\u001b[1;33m)\u001b[0m\u001b[1;33m:\u001b[0m\u001b[1;33m\u001b[0m\u001b[0m\n",
      "\u001b[1;31mAttributeError\u001b[0m: 'DataFrame' object has no attribute 'feature_names'"
     ]
    }
   ],
   "source": [
    "combined_train.feature_names"
   ]
  },
  {
   "cell_type": "code",
   "execution_count": 103,
   "metadata": {},
   "outputs": [
    {
     "data": {
      "image/png": "[encoded data removed]",
      "text/plain": [
       "<matplotlib.figure.Figure at 0x10c2ea0d30>"
      ]
     },
     "metadata": {},
     "output_type": "display_data"
    }
   ],
   "source": [
    "feature_importance = GBM.feature_importances_\n",
    "feature_importance = 100.0 * (feature_importance / feature_importance.max())\n",
    "sorted_idx = np.argsort(feature_importance)\n",
    "pos = np.arange(sorted_idx.shape[0]) + .5\n",
    "fig = plt.figure(figsize=(15,10), dpi=100)\n",
    "plt.subplot(1, 2, 2)\n",
    "plt.barh(pos, feature_importance[sorted_idx], align='center')\n",
    "plt.yticks(pos, combined_train.columns[sorted_idx])\n",
    "plt.xlabel('Relative Importance')\n",
    "plt.title('Variable Importance')\n",
    "plt.show()"
   ]
  },
  {
   "cell_type": "markdown",
   "metadata": {},
   "source": [
    "### KNN"
   ]
  },
  {
   "cell_type": "code",
   "execution_count": 92,
   "metadata": {},
   "outputs": [
    {
     "ename": "KeyboardInterrupt",
     "evalue": "",
     "output_type": "error",
     "traceback": [
      "\u001b[1;31m---------------------------------------------------------------------------\u001b[0m",
      "\u001b[1;31mKeyboardInterrupt\u001b[0m                         Traceback (most recent call last)",
      "\u001b[1;32m<ipython-input-92-500301f1e5c3>\u001b[0m in \u001b[0;36m<module>\u001b[1;34m()\u001b[0m\n\u001b[0;32m      1\u001b[0m \u001b[0mknn\u001b[0m \u001b[1;33m=\u001b[0m \u001b[0mneighbors\u001b[0m\u001b[1;33m.\u001b[0m\u001b[0mregression\u001b[0m\u001b[1;33m.\u001b[0m\u001b[0mKNeighborsRegressor\u001b[0m\u001b[1;33m(\u001b[0m\u001b[0mn_neighbors\u001b[0m \u001b[1;33m=\u001b[0m \u001b[1;36m5\u001b[0m\u001b[1;33m)\u001b[0m\u001b[1;33m\u001b[0m\u001b[0m\n\u001b[0;32m      2\u001b[0m \u001b[0mknn\u001b[0m\u001b[1;33m.\u001b[0m\u001b[0mfit\u001b[0m\u001b[1;33m(\u001b[0m\u001b[0mcombined_train\u001b[0m\u001b[1;33m,\u001b[0m \u001b[0mY_train\u001b[0m\u001b[1;33m)\u001b[0m\u001b[1;33m\u001b[0m\u001b[0m\n\u001b[1;32m----> 3\u001b[1;33m \u001b[0mknn_predict_train\u001b[0m \u001b[1;33m=\u001b[0m \u001b[0mknn\u001b[0m\u001b[1;33m.\u001b[0m\u001b[0mpredict\u001b[0m\u001b[1;33m(\u001b[0m\u001b[0mcombined_train\u001b[0m\u001b[1;33m)\u001b[0m\u001b[1;33m\u001b[0m\u001b[0m\n\u001b[0m\u001b[0;32m      4\u001b[0m \u001b[0mknn_predict_test\u001b[0m \u001b[1;33m=\u001b[0m \u001b[0mknn\u001b[0m\u001b[1;33m.\u001b[0m\u001b[0mpredict\u001b[0m\u001b[1;33m(\u001b[0m\u001b[0mcombined_test\u001b[0m\u001b[1;33m)\u001b[0m\u001b[1;33m\u001b[0m\u001b[0m\n\u001b[0;32m      5\u001b[0m \u001b[1;33m\u001b[0m\u001b[0m\n",
      "\u001b[1;32mC:\\ProgramData\\Anaconda3\\lib\\site-packages\\sklearn\\neighbors\\regression.py\u001b[0m in \u001b[0;36mpredict\u001b[1;34m(self, X)\u001b[0m\n\u001b[0;32m    142\u001b[0m         \u001b[0mX\u001b[0m \u001b[1;33m=\u001b[0m \u001b[0mcheck_array\u001b[0m\u001b[1;33m(\u001b[0m\u001b[0mX\u001b[0m\u001b[1;33m,\u001b[0m \u001b[0maccept_sparse\u001b[0m\u001b[1;33m=\u001b[0m\u001b[1;34m'csr'\u001b[0m\u001b[1;33m)\u001b[0m\u001b[1;33m\u001b[0m\u001b[0m\n\u001b[0;32m    143\u001b[0m \u001b[1;33m\u001b[0m\u001b[0m\n\u001b[1;32m--> 144\u001b[1;33m         \u001b[0mneigh_dist\u001b[0m\u001b[1;33m,\u001b[0m \u001b[0mneigh_ind\u001b[0m \u001b[1;33m=\u001b[0m \u001b[0mself\u001b[0m\u001b[1;33m.\u001b[0m\u001b[0mkneighbors\u001b[0m\u001b[1;33m(\u001b[0m\u001b[0mX\u001b[0m\u001b[1;33m)\u001b[0m\u001b[1;33m\u001b[0m\u001b[0m\n\u001b[0m\u001b[0;32m    145\u001b[0m \u001b[1;33m\u001b[0m\u001b[0m\n\u001b[0;32m    146\u001b[0m         \u001b[0mweights\u001b[0m \u001b[1;33m=\u001b[0m \u001b[0m_get_weights\u001b[0m\u001b[1;33m(\u001b[0m\u001b[0mneigh_dist\u001b[0m\u001b[1;33m,\u001b[0m \u001b[0mself\u001b[0m\u001b[1;33m.\u001b[0m\u001b[0mweights\u001b[0m\u001b[1;33m)\u001b[0m\u001b[1;33m\u001b[0m\u001b[0m\n",
      "\u001b[1;32mC:\\ProgramData\\Anaconda3\\lib\\site-packages\\sklearn\\neighbors\\base.py\u001b[0m in \u001b[0;36mkneighbors\u001b[1;34m(self, X, n_neighbors, return_distance)\u001b[0m\n\u001b[0;32m    383\u001b[0m                 delayed(self._tree.query, check_pickle=False)(\n\u001b[0;32m    384\u001b[0m                     X[s], n_neighbors, return_distance)\n\u001b[1;32m--> 385\u001b[1;33m                 \u001b[1;32mfor\u001b[0m \u001b[0ms\u001b[0m \u001b[1;32min\u001b[0m \u001b[0mgen_even_slices\u001b[0m\u001b[1;33m(\u001b[0m\u001b[0mX\u001b[0m\u001b[1;33m.\u001b[0m\u001b[0mshape\u001b[0m\u001b[1;33m[\u001b[0m\u001b[1;36m0\u001b[0m\u001b[1;33m]\u001b[0m\u001b[1;33m,\u001b[0m \u001b[0mn_jobs\u001b[0m\u001b[1;33m)\u001b[0m\u001b[1;33m\u001b[0m\u001b[0m\n\u001b[0m\u001b[0;32m    386\u001b[0m             )\n\u001b[0;32m    387\u001b[0m             \u001b[1;32mif\u001b[0m \u001b[0mreturn_distance\u001b[0m\u001b[1;33m:\u001b[0m\u001b[1;33m\u001b[0m\u001b[0m\n",
      "\u001b[1;32mC:\\ProgramData\\Anaconda3\\lib\\site-packages\\sklearn\\externals\\joblib\\parallel.py\u001b[0m in \u001b[0;36m__call__\u001b[1;34m(self, iterable)\u001b[0m\n\u001b[0;32m    777\u001b[0m             \u001b[1;31m# was dispatched. In particular this covers the edge\u001b[0m\u001b[1;33m\u001b[0m\u001b[1;33m\u001b[0m\u001b[0m\n\u001b[0;32m    778\u001b[0m             \u001b[1;31m# case of Parallel used with an exhausted iterator.\u001b[0m\u001b[1;33m\u001b[0m\u001b[1;33m\u001b[0m\u001b[0m\n\u001b[1;32m--> 779\u001b[1;33m             \u001b[1;32mwhile\u001b[0m \u001b[0mself\u001b[0m\u001b[1;33m.\u001b[0m\u001b[0mdispatch_one_batch\u001b[0m\u001b[1;33m(\u001b[0m\u001b[0miterator\u001b[0m\u001b[1;33m)\u001b[0m\u001b[1;33m:\u001b[0m\u001b[1;33m\u001b[0m\u001b[0m\n\u001b[0m\u001b[0;32m    780\u001b[0m                 \u001b[0mself\u001b[0m\u001b[1;33m.\u001b[0m\u001b[0m_iterating\u001b[0m \u001b[1;33m=\u001b[0m \u001b[1;32mTrue\u001b[0m\u001b[1;33m\u001b[0m\u001b[0m\n\u001b[0;32m    781\u001b[0m             \u001b[1;32melse\u001b[0m\u001b[1;33m:\u001b[0m\u001b[1;33m\u001b[0m\u001b[0m\n",
      "\u001b[1;32mC:\\ProgramData\\Anaconda3\\lib\\site-packages\\sklearn\\externals\\joblib\\parallel.py\u001b[0m in \u001b[0;36mdispatch_one_batch\u001b[1;34m(self, iterator)\u001b[0m\n\u001b[0;32m    623\u001b[0m                 \u001b[1;32mreturn\u001b[0m \u001b[1;32mFalse\u001b[0m\u001b[1;33m\u001b[0m\u001b[0m\n\u001b[0;32m    624\u001b[0m             \u001b[1;32melse\u001b[0m\u001b[1;33m:\u001b[0m\u001b[1;33m\u001b[0m\u001b[0m\n\u001b[1;32m--> 625\u001b[1;33m                 \u001b[0mself\u001b[0m\u001b[1;33m.\u001b[0m\u001b[0m_dispatch\u001b[0m\u001b[1;33m(\u001b[0m\u001b[0mtasks\u001b[0m\u001b[1;33m)\u001b[0m\u001b[1;33m\u001b[0m\u001b[0m\n\u001b[0m\u001b[0;32m    626\u001b[0m                 \u001b[1;32mreturn\u001b[0m \u001b[1;32mTrue\u001b[0m\u001b[1;33m\u001b[0m\u001b[0m\n\u001b[0;32m    627\u001b[0m \u001b[1;33m\u001b[0m\u001b[0m\n",
      "\u001b[1;32mC:\\ProgramData\\Anaconda3\\lib\\site-packages\\sklearn\\externals\\joblib\\parallel.py\u001b[0m in \u001b[0;36m_dispatch\u001b[1;34m(self, batch)\u001b[0m\n\u001b[0;32m    586\u001b[0m         \u001b[0mdispatch_timestamp\u001b[0m \u001b[1;33m=\u001b[0m \u001b[0mtime\u001b[0m\u001b[1;33m.\u001b[0m\u001b[0mtime\u001b[0m\u001b[1;33m(\u001b[0m\u001b[1;33m)\u001b[0m\u001b[1;33m\u001b[0m\u001b[0m\n\u001b[0;32m    587\u001b[0m         \u001b[0mcb\u001b[0m \u001b[1;33m=\u001b[0m \u001b[0mBatchCompletionCallBack\u001b[0m\u001b[1;33m(\u001b[0m\u001b[0mdispatch_timestamp\u001b[0m\u001b[1;33m,\u001b[0m \u001b[0mlen\u001b[0m\u001b[1;33m(\u001b[0m\u001b[0mbatch\u001b[0m\u001b[1;33m)\u001b[0m\u001b[1;33m,\u001b[0m \u001b[0mself\u001b[0m\u001b[1;33m)\u001b[0m\u001b[1;33m\u001b[0m\u001b[0m\n\u001b[1;32m--> 588\u001b[1;33m         \u001b[0mjob\u001b[0m \u001b[1;33m=\u001b[0m \u001b[0mself\u001b[0m\u001b[1;33m.\u001b[0m\u001b[0m_backend\u001b[0m\u001b[1;33m.\u001b[0m\u001b[0mapply_async\u001b[0m\u001b[1;33m(\u001b[0m\u001b[0mbatch\u001b[0m\u001b[1;33m,\u001b[0m \u001b[0mcallback\u001b[0m\u001b[1;33m=\u001b[0m\u001b[0mcb\u001b[0m\u001b[1;33m)\u001b[0m\u001b[1;33m\u001b[0m\u001b[0m\n\u001b[0m\u001b[0;32m    589\u001b[0m         \u001b[0mself\u001b[0m\u001b[1;33m.\u001b[0m\u001b[0m_jobs\u001b[0m\u001b[1;33m.\u001b[0m\u001b[0mappend\u001b[0m\u001b[1;33m(\u001b[0m\u001b[0mjob\u001b[0m\u001b[1;33m)\u001b[0m\u001b[1;33m\u001b[0m\u001b[0m\n\u001b[0;32m    590\u001b[0m \u001b[1;33m\u001b[0m\u001b[0m\n",
      "\u001b[1;32mC:\\ProgramData\\Anaconda3\\lib\\site-packages\\sklearn\\externals\\joblib\\_parallel_backends.py\u001b[0m in \u001b[0;36mapply_async\u001b[1;34m(self, func, callback)\u001b[0m\n\u001b[0;32m    109\u001b[0m     \u001b[1;32mdef\u001b[0m \u001b[0mapply_async\u001b[0m\u001b[1;33m(\u001b[0m\u001b[0mself\u001b[0m\u001b[1;33m,\u001b[0m \u001b[0mfunc\u001b[0m\u001b[1;33m,\u001b[0m \u001b[0mcallback\u001b[0m\u001b[1;33m=\u001b[0m\u001b[1;32mNone\u001b[0m\u001b[1;33m)\u001b[0m\u001b[1;33m:\u001b[0m\u001b[1;33m\u001b[0m\u001b[0m\n\u001b[0;32m    110\u001b[0m         \u001b[1;34m\"\"\"Schedule a func to be run\"\"\"\u001b[0m\u001b[1;33m\u001b[0m\u001b[0m\n\u001b[1;32m--> 111\u001b[1;33m         \u001b[0mresult\u001b[0m \u001b[1;33m=\u001b[0m \u001b[0mImmediateResult\u001b[0m\u001b[1;33m(\u001b[0m\u001b[0mfunc\u001b[0m\u001b[1;33m)\u001b[0m\u001b[1;33m\u001b[0m\u001b[0m\n\u001b[0m\u001b[0;32m    112\u001b[0m         \u001b[1;32mif\u001b[0m \u001b[0mcallback\u001b[0m\u001b[1;33m:\u001b[0m\u001b[1;33m\u001b[0m\u001b[0m\n\u001b[0;32m    113\u001b[0m             \u001b[0mcallback\u001b[0m\u001b[1;33m(\u001b[0m\u001b[0mresult\u001b[0m\u001b[1;33m)\u001b[0m\u001b[1;33m\u001b[0m\u001b[0m\n",
      "\u001b[1;32mC:\\ProgramData\\Anaconda3\\lib\\site-packages\\sklearn\\externals\\joblib\\_parallel_backends.py\u001b[0m in \u001b[0;36m__init__\u001b[1;34m(self, batch)\u001b[0m\n\u001b[0;32m    330\u001b[0m         \u001b[1;31m# Don't delay the application, to avoid keeping the input\u001b[0m\u001b[1;33m\u001b[0m\u001b[1;33m\u001b[0m\u001b[0m\n\u001b[0;32m    331\u001b[0m         \u001b[1;31m# arguments in memory\u001b[0m\u001b[1;33m\u001b[0m\u001b[1;33m\u001b[0m\u001b[0m\n\u001b[1;32m--> 332\u001b[1;33m         \u001b[0mself\u001b[0m\u001b[1;33m.\u001b[0m\u001b[0mresults\u001b[0m \u001b[1;33m=\u001b[0m \u001b[0mbatch\u001b[0m\u001b[1;33m(\u001b[0m\u001b[1;33m)\u001b[0m\u001b[1;33m\u001b[0m\u001b[0m\n\u001b[0m\u001b[0;32m    333\u001b[0m \u001b[1;33m\u001b[0m\u001b[0m\n\u001b[0;32m    334\u001b[0m     \u001b[1;32mdef\u001b[0m \u001b[0mget\u001b[0m\u001b[1;33m(\u001b[0m\u001b[0mself\u001b[0m\u001b[1;33m)\u001b[0m\u001b[1;33m:\u001b[0m\u001b[1;33m\u001b[0m\u001b[0m\n",
      "\u001b[1;32mC:\\ProgramData\\Anaconda3\\lib\\site-packages\\sklearn\\externals\\joblib\\parallel.py\u001b[0m in \u001b[0;36m__call__\u001b[1;34m(self)\u001b[0m\n\u001b[0;32m    129\u001b[0m \u001b[1;33m\u001b[0m\u001b[0m\n\u001b[0;32m    130\u001b[0m     \u001b[1;32mdef\u001b[0m \u001b[0m__call__\u001b[0m\u001b[1;33m(\u001b[0m\u001b[0mself\u001b[0m\u001b[1;33m)\u001b[0m\u001b[1;33m:\u001b[0m\u001b[1;33m\u001b[0m\u001b[0m\n\u001b[1;32m--> 131\u001b[1;33m         \u001b[1;32mreturn\u001b[0m \u001b[1;33m[\u001b[0m\u001b[0mfunc\u001b[0m\u001b[1;33m(\u001b[0m\u001b[1;33m*\u001b[0m\u001b[0margs\u001b[0m\u001b[1;33m,\u001b[0m \u001b[1;33m**\u001b[0m\u001b[0mkwargs\u001b[0m\u001b[1;33m)\u001b[0m \u001b[1;32mfor\u001b[0m \u001b[0mfunc\u001b[0m\u001b[1;33m,\u001b[0m \u001b[0margs\u001b[0m\u001b[1;33m,\u001b[0m \u001b[0mkwargs\u001b[0m \u001b[1;32min\u001b[0m \u001b[0mself\u001b[0m\u001b[1;33m.\u001b[0m\u001b[0mitems\u001b[0m\u001b[1;33m]\u001b[0m\u001b[1;33m\u001b[0m\u001b[0m\n\u001b[0m\u001b[0;32m    132\u001b[0m \u001b[1;33m\u001b[0m\u001b[0m\n\u001b[0;32m    133\u001b[0m     \u001b[1;32mdef\u001b[0m \u001b[0m__len__\u001b[0m\u001b[1;33m(\u001b[0m\u001b[0mself\u001b[0m\u001b[1;33m)\u001b[0m\u001b[1;33m:\u001b[0m\u001b[1;33m\u001b[0m\u001b[0m\n",
      "\u001b[1;32mC:\\ProgramData\\Anaconda3\\lib\\site-packages\\sklearn\\externals\\joblib\\parallel.py\u001b[0m in \u001b[0;36m<listcomp>\u001b[1;34m(.0)\u001b[0m\n\u001b[0;32m    129\u001b[0m \u001b[1;33m\u001b[0m\u001b[0m\n\u001b[0;32m    130\u001b[0m     \u001b[1;32mdef\u001b[0m \u001b[0m__call__\u001b[0m\u001b[1;33m(\u001b[0m\u001b[0mself\u001b[0m\u001b[1;33m)\u001b[0m\u001b[1;33m:\u001b[0m\u001b[1;33m\u001b[0m\u001b[0m\n\u001b[1;32m--> 131\u001b[1;33m         \u001b[1;32mreturn\u001b[0m \u001b[1;33m[\u001b[0m\u001b[0mfunc\u001b[0m\u001b[1;33m(\u001b[0m\u001b[1;33m*\u001b[0m\u001b[0margs\u001b[0m\u001b[1;33m,\u001b[0m \u001b[1;33m**\u001b[0m\u001b[0mkwargs\u001b[0m\u001b[1;33m)\u001b[0m \u001b[1;32mfor\u001b[0m \u001b[0mfunc\u001b[0m\u001b[1;33m,\u001b[0m \u001b[0margs\u001b[0m\u001b[1;33m,\u001b[0m \u001b[0mkwargs\u001b[0m \u001b[1;32min\u001b[0m \u001b[0mself\u001b[0m\u001b[1;33m.\u001b[0m\u001b[0mitems\u001b[0m\u001b[1;33m]\u001b[0m\u001b[1;33m\u001b[0m\u001b[0m\n\u001b[0m\u001b[0;32m    132\u001b[0m \u001b[1;33m\u001b[0m\u001b[0m\n\u001b[0;32m    133\u001b[0m     \u001b[1;32mdef\u001b[0m \u001b[0m__len__\u001b[0m\u001b[1;33m(\u001b[0m\u001b[0mself\u001b[0m\u001b[1;33m)\u001b[0m\u001b[1;33m:\u001b[0m\u001b[1;33m\u001b[0m\u001b[0m\n",
      "\u001b[1;31mKeyboardInterrupt\u001b[0m: "
     ]
    }
   ],
   "source": [
    "knn = neighbors.regression.KNeighborsRegressor(n_neighbors = 5)\n",
    "knn.fit(combined_train, Y_train)\n",
    "knn_predict_train = knn.predict(combined_train)\n",
    "knn_predict_test = knn.predict(combined_test)\n",
    "\n",
    "print(\"Root mean squared error for train: %.2f\" % math.sqrt(mean_squared_error(Y_train, knn_predict_train)))\n",
    "print(\"Root mean squared error for test: %.2f\" % math.sqrt(mean_squared_error(Y_test, knn_predict_test)))"
   ]
  },
  {
   "cell_type": "markdown",
   "metadata": {},
   "source": [
    "## Score Test data"
   ]
  }
 ],
 "metadata": {
  "kernelspec": {
   "display_name": "Python 3",
   "language": "python",
   "name": "python3"
  },
  "language_info": {
   "codemirror_mode": {
    "name": "ipython",
    "version": 3
   },
   "file_extension": ".py",
   "mimetype": "text/x-python",
   "name": "python",
   "nbconvert_exporter": "python",
   "pygments_lexer": "ipython3",
   "version": "3.6.3"
  }
 },
 "nbformat": 4,
 "nbformat_minor": 2
}
